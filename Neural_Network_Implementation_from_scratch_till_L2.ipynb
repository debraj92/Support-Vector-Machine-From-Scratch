{
  "nbformat": 4,
  "nbformat_minor": 0,
  "metadata": {
    "colab": {
      "name": "Neural Network Implementation from scratch.ipynb",
      "provenance": []
    },
    "kernelspec": {
      "name": "python3",
      "display_name": "Python 3"
    },
    "language_info": {
      "name": "python"
    }
  },
  "cells": [
    {
      "cell_type": "markdown",
      "source": [
        "### **Data** **Preparation**"
      ],
      "metadata": {
        "id": "cF5zCrVl4LuY"
      }
    },
    {
      "cell_type": "code",
      "execution_count": 4,
      "metadata": {
        "id": "DcyoXPch4KlY"
      },
      "outputs": [],
      "source": [
        "import numpy as np\n",
        "import pickle\n",
        "import gzip\n",
        "import matplotlib.pyplot as plt\n",
        "import pandas as pd\n",
        "import numpy as np\n",
        "import matplotlib.pyplot as plt\n",
        "import h5py\n",
        "import sklearn\n",
        "import sklearn.datasets\n",
        "import scipy\n",
        "from PIL import Image\n",
        "from scipy import ndimage\n",
        "\n",
        "\n",
        "%matplotlib inline"
      ]
    },
    {
      "cell_type": "code",
      "source": [
        "def load_data():\n",
        "  '''\n",
        "  Reads the .pkl file and loads data into variables\n",
        "  '''\n",
        "  f = gzip.open('mnist.pkl.gz', 'rb')\n",
        "  f.seek(0)\n",
        "  training_data, validation_data, test_data = pickle.load(f, encoding='latin1')\n",
        "  f.close()\n",
        "  return (training_data, validation_data, test_data)"
      ],
      "metadata": {
        "id": "YVi1OffT4RzT"
      },
      "execution_count": 5,
      "outputs": []
    },
    {
      "cell_type": "code",
      "source": [
        "training_data, validation_data, test_data = load_data()"
      ],
      "metadata": {
        "id": "mI0nlA2P4WEU"
      },
      "execution_count": 8,
      "outputs": []
    },
    {
      "cell_type": "code",
      "source": [
        "training_data"
      ],
      "metadata": {
        "colab": {
          "base_uri": "https://localhost:8080/"
        },
        "id": "tpAFriOX4WHD",
        "outputId": "3b8dfecf-7712-4bdc-eebe-ac9279c88d08"
      },
      "execution_count": 9,
      "outputs": [
        {
          "output_type": "execute_result",
          "data": {
            "text/plain": [
              "(array([[0., 0., 0., ..., 0., 0., 0.],\n",
              "        [0., 0., 0., ..., 0., 0., 0.],\n",
              "        [0., 0., 0., ..., 0., 0., 0.],\n",
              "        ...,\n",
              "        [0., 0., 0., ..., 0., 0., 0.],\n",
              "        [0., 0., 0., ..., 0., 0., 0.],\n",
              "        [0., 0., 0., ..., 0., 0., 0.]], dtype=float32),\n",
              " array([5, 0, 4, ..., 8, 4, 8]))"
            ]
          },
          "metadata": {},
          "execution_count": 9
        }
      ]
    },
    {
      "cell_type": "code",
      "source": [
        "# Input and target label shapes\n",
        "print(training_data[0].shape)\n",
        "print(training_data[1].shape)"
      ],
      "metadata": {
        "colab": {
          "base_uri": "https://localhost:8080/"
        },
        "id": "CWwaNshU4WJ8",
        "outputId": "56e29679-faa1-4347-f0eb-33d44df6d10c"
      },
      "execution_count": 10,
      "outputs": [
        {
          "output_type": "stream",
          "name": "stdout",
          "text": [
            "(50000, 784)\n",
            "(50000,)\n"
          ]
        }
      ]
    },
    {
      "cell_type": "code",
      "source": [
        "print(\"The feature dataset is:\" + str(training_data[0]))\n",
        "print(\"The target dataset is:\" + str(training_data[1]))\n",
        "print(\"The number of examples in the training dataset is:\" + str(len(training_data[0])))\n",
        "print(\"The number of points in a single input is:\" + str(len(training_data[0][1])))"
      ],
      "metadata": {
        "colab": {
          "base_uri": "https://localhost:8080/"
        },
        "id": "kmAaAclG4WM4",
        "outputId": "b71435b1-80d6-47ee-e610-0c9143c5a552"
      },
      "execution_count": 11,
      "outputs": [
        {
          "output_type": "stream",
          "name": "stdout",
          "text": [
            "The feature dataset is:[[0. 0. 0. ... 0. 0. 0.]\n",
            " [0. 0. 0. ... 0. 0. 0.]\n",
            " [0. 0. 0. ... 0. 0. 0.]\n",
            " ...\n",
            " [0. 0. 0. ... 0. 0. 0.]\n",
            " [0. 0. 0. ... 0. 0. 0.]\n",
            " [0. 0. 0. ... 0. 0. 0.]]\n",
            "The target dataset is:[5 0 4 ... 8 4 8]\n",
            "The number of examples in the training dataset is:50000\n",
            "The number of points in a single input is:784\n"
          ]
        }
      ]
    },
    {
      "cell_type": "markdown",
      "source": [
        "### **One-Hot Representation**"
      ],
      "metadata": {
        "id": "C12PJ8Td4leN"
      }
    },
    {
      "cell_type": "code",
      "source": [
        "def one_hot(j):\n",
        "  '''\n",
        "  Input: List of m labels\n",
        "  Output: Returns (10, m) matrix with one-hot representation\n",
        "  '''\n",
        "  n = j.shape[0]\n",
        "  new_array = np.zeros((10, n))\n",
        "  index = 0\n",
        "  for res in j:\n",
        "      new_array[res][index] = 1.0\n",
        "      index = index + 1\n",
        "  return new_array"
      ],
      "metadata": {
        "id": "zyGOvvye4WPy"
      },
      "execution_count": 12,
      "outputs": []
    },
    {
      "cell_type": "code",
      "source": [
        "def data_wrapper():\n",
        "  '''\n",
        "  Converts the dataset into desired shape and also converts the ground truth to one-hot representation\n",
        "  '''\n",
        "  tr_d, va_d, te_d = load_data()\n",
        "  training_inputs = np.array(tr_d[0][:]).T\n",
        "  training_results = np.array(tr_d[1][:])\n",
        "  train_set_y = one_hot(training_results)\n",
        "  \n",
        "  validation_inputs = np.array(va_d[0][:]).T\n",
        "  validation_results = np.array(va_d[1][:])\n",
        "  validation_set_y = one_hot(validation_results)\n",
        "  \n",
        "  test_inputs = np.array(te_d[0][:]).T\n",
        "  test_results = np.array(te_d[1][:])\n",
        "  test_set_y = one_hot(test_results)\n",
        "  \n",
        "  return (training_inputs, train_set_y, test_inputs, test_set_y)"
      ],
      "metadata": {
        "id": "XSMmVG0T4WSn"
      },
      "execution_count": 13,
      "outputs": []
    },
    {
      "cell_type": "code",
      "source": [
        "train_set_x, train_set_y, test_set_x, test_set_y = data_wrapper()"
      ],
      "metadata": {
        "id": "37OOVcGVBpcA"
      },
      "execution_count": 14,
      "outputs": []
    },
    {
      "cell_type": "code",
      "source": [
        "print (\"train_set_x shape: \" + str(train_set_x.shape))\n",
        "print (\"train_set_y shape: \" + str(train_set_y.shape))\n",
        "print (\"test_set_x shape: \" + str(test_set_x.shape))\n",
        "print (\"test_set_y shape: \" + str(test_set_y.shape))"
      ],
      "metadata": {
        "colab": {
          "base_uri": "https://localhost:8080/"
        },
        "id": "iS8fJv8PBpfA",
        "outputId": "2f7a91b9-608d-420d-b807-9b1cab73f366"
      },
      "execution_count": 15,
      "outputs": [
        {
          "output_type": "stream",
          "name": "stdout",
          "text": [
            "train_set_x shape: (784, 50000)\n",
            "train_set_y shape: (10, 50000)\n",
            "test_set_x shape: (784, 10000)\n",
            "test_set_y shape: (10, 10000)\n"
          ]
        }
      ]
    },
    {
      "cell_type": "code",
      "source": [
        "# Converting labels into dataframe.\n",
        "y = pd.DataFrame(train_set_y)"
      ],
      "metadata": {
        "id": "jMaI0zzFBph7"
      },
      "execution_count": 16,
      "outputs": []
    },
    {
      "cell_type": "code",
      "source": [
        "print(\"The target dataset is:\" + str(training_data[1]))\n",
        "print(\"The one hot encoding dataset is:\")\n",
        "y"
      ],
      "metadata": {
        "colab": {
          "base_uri": "https://localhost:8080/",
          "height": 491
        },
        "id": "3G_Ye_70BzGR",
        "outputId": "d83059e7-7bf9-427b-e93e-a438c1e951c0"
      },
      "execution_count": 17,
      "outputs": [
        {
          "output_type": "stream",
          "name": "stdout",
          "text": [
            "The target dataset is:[5 0 4 ... 8 4 8]\n",
            "The one hot encoding dataset is:\n"
          ]
        },
        {
          "output_type": "execute_result",
          "data": {
            "text/plain": [
              "   0      1      2      3      4      5      6      7      8      9      ...  \\\n",
              "0    0.0    1.0    0.0    0.0    0.0    0.0    0.0    0.0    0.0    0.0  ...   \n",
              "1    0.0    0.0    0.0    1.0    0.0    0.0    1.0    0.0    1.0    0.0  ...   \n",
              "2    0.0    0.0    0.0    0.0    0.0    1.0    0.0    0.0    0.0    0.0  ...   \n",
              "3    0.0    0.0    0.0    0.0    0.0    0.0    0.0    1.0    0.0    0.0  ...   \n",
              "4    0.0    0.0    1.0    0.0    0.0    0.0    0.0    0.0    0.0    1.0  ...   \n",
              "5    1.0    0.0    0.0    0.0    0.0    0.0    0.0    0.0    0.0    0.0  ...   \n",
              "6    0.0    0.0    0.0    0.0    0.0    0.0    0.0    0.0    0.0    0.0  ...   \n",
              "7    0.0    0.0    0.0    0.0    0.0    0.0    0.0    0.0    0.0    0.0  ...   \n",
              "8    0.0    0.0    0.0    0.0    0.0    0.0    0.0    0.0    0.0    0.0  ...   \n",
              "9    0.0    0.0    0.0    0.0    1.0    0.0    0.0    0.0    0.0    0.0  ...   \n",
              "\n",
              "   49990  49991  49992  49993  49994  49995  49996  49997  49998  49999  \n",
              "0    0.0    0.0    0.0    0.0    0.0    0.0    1.0    0.0    0.0    0.0  \n",
              "1    0.0    0.0    0.0    0.0    0.0    0.0    0.0    0.0    0.0    0.0  \n",
              "2    0.0    0.0    0.0    1.0    0.0    0.0    0.0    0.0    0.0    0.0  \n",
              "3    0.0    0.0    0.0    0.0    0.0    0.0    0.0    0.0    0.0    0.0  \n",
              "4    0.0    0.0    0.0    0.0    1.0    0.0    0.0    0.0    1.0    0.0  \n",
              "5    0.0    1.0    1.0    0.0    0.0    1.0    0.0    0.0    0.0    0.0  \n",
              "6    0.0    0.0    0.0    0.0    0.0    0.0    0.0    0.0    0.0    0.0  \n",
              "7    0.0    0.0    0.0    0.0    0.0    0.0    0.0    0.0    0.0    0.0  \n",
              "8    1.0    0.0    0.0    0.0    0.0    0.0    0.0    1.0    0.0    1.0  \n",
              "9    0.0    0.0    0.0    0.0    0.0    0.0    0.0    0.0    0.0    0.0  \n",
              "\n",
              "[10 rows x 50000 columns]"
            ],
            "text/html": [
              "\n",
              "  <div id=\"df-ae137152-836f-4b8e-8352-4070170f2a21\">\n",
              "    <div class=\"colab-df-container\">\n",
              "      <div>\n",
              "<style scoped>\n",
              "    .dataframe tbody tr th:only-of-type {\n",
              "        vertical-align: middle;\n",
              "    }\n",
              "\n",
              "    .dataframe tbody tr th {\n",
              "        vertical-align: top;\n",
              "    }\n",
              "\n",
              "    .dataframe thead th {\n",
              "        text-align: right;\n",
              "    }\n",
              "</style>\n",
              "<table border=\"1\" class=\"dataframe\">\n",
              "  <thead>\n",
              "    <tr style=\"text-align: right;\">\n",
              "      <th></th>\n",
              "      <th>0</th>\n",
              "      <th>1</th>\n",
              "      <th>2</th>\n",
              "      <th>3</th>\n",
              "      <th>4</th>\n",
              "      <th>5</th>\n",
              "      <th>6</th>\n",
              "      <th>7</th>\n",
              "      <th>8</th>\n",
              "      <th>9</th>\n",
              "      <th>...</th>\n",
              "      <th>49990</th>\n",
              "      <th>49991</th>\n",
              "      <th>49992</th>\n",
              "      <th>49993</th>\n",
              "      <th>49994</th>\n",
              "      <th>49995</th>\n",
              "      <th>49996</th>\n",
              "      <th>49997</th>\n",
              "      <th>49998</th>\n",
              "      <th>49999</th>\n",
              "    </tr>\n",
              "  </thead>\n",
              "  <tbody>\n",
              "    <tr>\n",
              "      <th>0</th>\n",
              "      <td>0.0</td>\n",
              "      <td>1.0</td>\n",
              "      <td>0.0</td>\n",
              "      <td>0.0</td>\n",
              "      <td>0.0</td>\n",
              "      <td>0.0</td>\n",
              "      <td>0.0</td>\n",
              "      <td>0.0</td>\n",
              "      <td>0.0</td>\n",
              "      <td>0.0</td>\n",
              "      <td>...</td>\n",
              "      <td>0.0</td>\n",
              "      <td>0.0</td>\n",
              "      <td>0.0</td>\n",
              "      <td>0.0</td>\n",
              "      <td>0.0</td>\n",
              "      <td>0.0</td>\n",
              "      <td>1.0</td>\n",
              "      <td>0.0</td>\n",
              "      <td>0.0</td>\n",
              "      <td>0.0</td>\n",
              "    </tr>\n",
              "    <tr>\n",
              "      <th>1</th>\n",
              "      <td>0.0</td>\n",
              "      <td>0.0</td>\n",
              "      <td>0.0</td>\n",
              "      <td>1.0</td>\n",
              "      <td>0.0</td>\n",
              "      <td>0.0</td>\n",
              "      <td>1.0</td>\n",
              "      <td>0.0</td>\n",
              "      <td>1.0</td>\n",
              "      <td>0.0</td>\n",
              "      <td>...</td>\n",
              "      <td>0.0</td>\n",
              "      <td>0.0</td>\n",
              "      <td>0.0</td>\n",
              "      <td>0.0</td>\n",
              "      <td>0.0</td>\n",
              "      <td>0.0</td>\n",
              "      <td>0.0</td>\n",
              "      <td>0.0</td>\n",
              "      <td>0.0</td>\n",
              "      <td>0.0</td>\n",
              "    </tr>\n",
              "    <tr>\n",
              "      <th>2</th>\n",
              "      <td>0.0</td>\n",
              "      <td>0.0</td>\n",
              "      <td>0.0</td>\n",
              "      <td>0.0</td>\n",
              "      <td>0.0</td>\n",
              "      <td>1.0</td>\n",
              "      <td>0.0</td>\n",
              "      <td>0.0</td>\n",
              "      <td>0.0</td>\n",
              "      <td>0.0</td>\n",
              "      <td>...</td>\n",
              "      <td>0.0</td>\n",
              "      <td>0.0</td>\n",
              "      <td>0.0</td>\n",
              "      <td>1.0</td>\n",
              "      <td>0.0</td>\n",
              "      <td>0.0</td>\n",
              "      <td>0.0</td>\n",
              "      <td>0.0</td>\n",
              "      <td>0.0</td>\n",
              "      <td>0.0</td>\n",
              "    </tr>\n",
              "    <tr>\n",
              "      <th>3</th>\n",
              "      <td>0.0</td>\n",
              "      <td>0.0</td>\n",
              "      <td>0.0</td>\n",
              "      <td>0.0</td>\n",
              "      <td>0.0</td>\n",
              "      <td>0.0</td>\n",
              "      <td>0.0</td>\n",
              "      <td>1.0</td>\n",
              "      <td>0.0</td>\n",
              "      <td>0.0</td>\n",
              "      <td>...</td>\n",
              "      <td>0.0</td>\n",
              "      <td>0.0</td>\n",
              "      <td>0.0</td>\n",
              "      <td>0.0</td>\n",
              "      <td>0.0</td>\n",
              "      <td>0.0</td>\n",
              "      <td>0.0</td>\n",
              "      <td>0.0</td>\n",
              "      <td>0.0</td>\n",
              "      <td>0.0</td>\n",
              "    </tr>\n",
              "    <tr>\n",
              "      <th>4</th>\n",
              "      <td>0.0</td>\n",
              "      <td>0.0</td>\n",
              "      <td>1.0</td>\n",
              "      <td>0.0</td>\n",
              "      <td>0.0</td>\n",
              "      <td>0.0</td>\n",
              "      <td>0.0</td>\n",
              "      <td>0.0</td>\n",
              "      <td>0.0</td>\n",
              "      <td>1.0</td>\n",
              "      <td>...</td>\n",
              "      <td>0.0</td>\n",
              "      <td>0.0</td>\n",
              "      <td>0.0</td>\n",
              "      <td>0.0</td>\n",
              "      <td>1.0</td>\n",
              "      <td>0.0</td>\n",
              "      <td>0.0</td>\n",
              "      <td>0.0</td>\n",
              "      <td>1.0</td>\n",
              "      <td>0.0</td>\n",
              "    </tr>\n",
              "    <tr>\n",
              "      <th>5</th>\n",
              "      <td>1.0</td>\n",
              "      <td>0.0</td>\n",
              "      <td>0.0</td>\n",
              "      <td>0.0</td>\n",
              "      <td>0.0</td>\n",
              "      <td>0.0</td>\n",
              "      <td>0.0</td>\n",
              "      <td>0.0</td>\n",
              "      <td>0.0</td>\n",
              "      <td>0.0</td>\n",
              "      <td>...</td>\n",
              "      <td>0.0</td>\n",
              "      <td>1.0</td>\n",
              "      <td>1.0</td>\n",
              "      <td>0.0</td>\n",
              "      <td>0.0</td>\n",
              "      <td>1.0</td>\n",
              "      <td>0.0</td>\n",
              "      <td>0.0</td>\n",
              "      <td>0.0</td>\n",
              "      <td>0.0</td>\n",
              "    </tr>\n",
              "    <tr>\n",
              "      <th>6</th>\n",
              "      <td>0.0</td>\n",
              "      <td>0.0</td>\n",
              "      <td>0.0</td>\n",
              "      <td>0.0</td>\n",
              "      <td>0.0</td>\n",
              "      <td>0.0</td>\n",
              "      <td>0.0</td>\n",
              "      <td>0.0</td>\n",
              "      <td>0.0</td>\n",
              "      <td>0.0</td>\n",
              "      <td>...</td>\n",
              "      <td>0.0</td>\n",
              "      <td>0.0</td>\n",
              "      <td>0.0</td>\n",
              "      <td>0.0</td>\n",
              "      <td>0.0</td>\n",
              "      <td>0.0</td>\n",
              "      <td>0.0</td>\n",
              "      <td>0.0</td>\n",
              "      <td>0.0</td>\n",
              "      <td>0.0</td>\n",
              "    </tr>\n",
              "    <tr>\n",
              "      <th>7</th>\n",
              "      <td>0.0</td>\n",
              "      <td>0.0</td>\n",
              "      <td>0.0</td>\n",
              "      <td>0.0</td>\n",
              "      <td>0.0</td>\n",
              "      <td>0.0</td>\n",
              "      <td>0.0</td>\n",
              "      <td>0.0</td>\n",
              "      <td>0.0</td>\n",
              "      <td>0.0</td>\n",
              "      <td>...</td>\n",
              "      <td>0.0</td>\n",
              "      <td>0.0</td>\n",
              "      <td>0.0</td>\n",
              "      <td>0.0</td>\n",
              "      <td>0.0</td>\n",
              "      <td>0.0</td>\n",
              "      <td>0.0</td>\n",
              "      <td>0.0</td>\n",
              "      <td>0.0</td>\n",
              "      <td>0.0</td>\n",
              "    </tr>\n",
              "    <tr>\n",
              "      <th>8</th>\n",
              "      <td>0.0</td>\n",
              "      <td>0.0</td>\n",
              "      <td>0.0</td>\n",
              "      <td>0.0</td>\n",
              "      <td>0.0</td>\n",
              "      <td>0.0</td>\n",
              "      <td>0.0</td>\n",
              "      <td>0.0</td>\n",
              "      <td>0.0</td>\n",
              "      <td>0.0</td>\n",
              "      <td>...</td>\n",
              "      <td>1.0</td>\n",
              "      <td>0.0</td>\n",
              "      <td>0.0</td>\n",
              "      <td>0.0</td>\n",
              "      <td>0.0</td>\n",
              "      <td>0.0</td>\n",
              "      <td>0.0</td>\n",
              "      <td>1.0</td>\n",
              "      <td>0.0</td>\n",
              "      <td>1.0</td>\n",
              "    </tr>\n",
              "    <tr>\n",
              "      <th>9</th>\n",
              "      <td>0.0</td>\n",
              "      <td>0.0</td>\n",
              "      <td>0.0</td>\n",
              "      <td>0.0</td>\n",
              "      <td>1.0</td>\n",
              "      <td>0.0</td>\n",
              "      <td>0.0</td>\n",
              "      <td>0.0</td>\n",
              "      <td>0.0</td>\n",
              "      <td>0.0</td>\n",
              "      <td>...</td>\n",
              "      <td>0.0</td>\n",
              "      <td>0.0</td>\n",
              "      <td>0.0</td>\n",
              "      <td>0.0</td>\n",
              "      <td>0.0</td>\n",
              "      <td>0.0</td>\n",
              "      <td>0.0</td>\n",
              "      <td>0.0</td>\n",
              "      <td>0.0</td>\n",
              "      <td>0.0</td>\n",
              "    </tr>\n",
              "  </tbody>\n",
              "</table>\n",
              "<p>10 rows × 50000 columns</p>\n",
              "</div>\n",
              "      <button class=\"colab-df-convert\" onclick=\"convertToInteractive('df-ae137152-836f-4b8e-8352-4070170f2a21')\"\n",
              "              title=\"Convert this dataframe to an interactive table.\"\n",
              "              style=\"display:none;\">\n",
              "        \n",
              "  <svg xmlns=\"http://www.w3.org/2000/svg\" height=\"24px\"viewBox=\"0 0 24 24\"\n",
              "       width=\"24px\">\n",
              "    <path d=\"M0 0h24v24H0V0z\" fill=\"none\"/>\n",
              "    <path d=\"M18.56 5.44l.94 2.06.94-2.06 2.06-.94-2.06-.94-.94-2.06-.94 2.06-2.06.94zm-11 1L8.5 8.5l.94-2.06 2.06-.94-2.06-.94L8.5 2.5l-.94 2.06-2.06.94zm10 10l.94 2.06.94-2.06 2.06-.94-2.06-.94-.94-2.06-.94 2.06-2.06.94z\"/><path d=\"M17.41 7.96l-1.37-1.37c-.4-.4-.92-.59-1.43-.59-.52 0-1.04.2-1.43.59L10.3 9.45l-7.72 7.72c-.78.78-.78 2.05 0 2.83L4 21.41c.39.39.9.59 1.41.59.51 0 1.02-.2 1.41-.59l7.78-7.78 2.81-2.81c.8-.78.8-2.07 0-2.86zM5.41 20L4 18.59l7.72-7.72 1.47 1.35L5.41 20z\"/>\n",
              "  </svg>\n",
              "      </button>\n",
              "      \n",
              "  <style>\n",
              "    .colab-df-container {\n",
              "      display:flex;\n",
              "      flex-wrap:wrap;\n",
              "      gap: 12px;\n",
              "    }\n",
              "\n",
              "    .colab-df-convert {\n",
              "      background-color: #E8F0FE;\n",
              "      border: none;\n",
              "      border-radius: 50%;\n",
              "      cursor: pointer;\n",
              "      display: none;\n",
              "      fill: #1967D2;\n",
              "      height: 32px;\n",
              "      padding: 0 0 0 0;\n",
              "      width: 32px;\n",
              "    }\n",
              "\n",
              "    .colab-df-convert:hover {\n",
              "      background-color: #E2EBFA;\n",
              "      box-shadow: 0px 1px 2px rgba(60, 64, 67, 0.3), 0px 1px 3px 1px rgba(60, 64, 67, 0.15);\n",
              "      fill: #174EA6;\n",
              "    }\n",
              "\n",
              "    [theme=dark] .colab-df-convert {\n",
              "      background-color: #3B4455;\n",
              "      fill: #D2E3FC;\n",
              "    }\n",
              "\n",
              "    [theme=dark] .colab-df-convert:hover {\n",
              "      background-color: #434B5C;\n",
              "      box-shadow: 0px 1px 3px 1px rgba(0, 0, 0, 0.15);\n",
              "      filter: drop-shadow(0px 1px 2px rgba(0, 0, 0, 0.3));\n",
              "      fill: #FFFFFF;\n",
              "    }\n",
              "  </style>\n",
              "\n",
              "      <script>\n",
              "        const buttonEl =\n",
              "          document.querySelector('#df-ae137152-836f-4b8e-8352-4070170f2a21 button.colab-df-convert');\n",
              "        buttonEl.style.display =\n",
              "          google.colab.kernel.accessAllowed ? 'block' : 'none';\n",
              "\n",
              "        async function convertToInteractive(key) {\n",
              "          const element = document.querySelector('#df-ae137152-836f-4b8e-8352-4070170f2a21');\n",
              "          const dataTable =\n",
              "            await google.colab.kernel.invokeFunction('convertToInteractive',\n",
              "                                                     [key], {});\n",
              "          if (!dataTable) return;\n",
              "\n",
              "          const docLinkHtml = 'Like what you see? Visit the ' +\n",
              "            '<a target=\"_blank\" href=https://colab.research.google.com/notebooks/data_table.ipynb>data table notebook</a>'\n",
              "            + ' to learn more about interactive tables.';\n",
              "          element.innerHTML = '';\n",
              "          dataTable['output_type'] = 'display_data';\n",
              "          await google.colab.output.renderOutput(dataTable, element);\n",
              "          const docLink = document.createElement('div');\n",
              "          docLink.innerHTML = docLinkHtml;\n",
              "          element.appendChild(docLink);\n",
              "        }\n",
              "      </script>\n",
              "    </div>\n",
              "  </div>\n",
              "  "
            ]
          },
          "metadata": {},
          "execution_count": 17
        }
      ]
    },
    {
      "cell_type": "code",
      "source": [
        "# Visualizing a random training sample.\n",
        "index  = 1000\n",
        "k = train_set_x[:,index]\n",
        "k = k.reshape((28, 28))\n",
        "plt.title('Label is {label}'.format(label= training_data[1][index]))\n",
        "plt.imshow(k, cmap='gray')"
      ],
      "metadata": {
        "colab": {
          "base_uri": "https://localhost:8080/",
          "height": 298
        },
        "id": "zyIQv47VBzI0",
        "outputId": "a2ab6144-ecf2-40fd-9bc9-9813db57fd17"
      },
      "execution_count": 18,
      "outputs": [
        {
          "output_type": "execute_result",
          "data": {
            "text/plain": [
              "<matplotlib.image.AxesImage at 0x7fda26285cd0>"
            ]
          },
          "metadata": {},
          "execution_count": 18
        },
        {
          "output_type": "display_data",
          "data": {
            "text/plain": [
              "<Figure size 432x288 with 1 Axes>"
            ],
            "image/png": "[encoded data removed]"
          },
          "metadata": {
            "needs_background": "light"
          }
        }
      ]
    },
    {
      "cell_type": "markdown",
      "source": [
        "### **Feedforward**"
      ],
      "metadata": {
        "id": "nwhc0NPuCNDc"
      }
    },
    {
      "cell_type": "markdown",
      "source": [
        "Activation Functions"
      ],
      "metadata": {
        "id": "66JFBL4NCbFv"
      }
    },
    {
      "cell_type": "code",
      "source": [
        "def sigmoid(Z):\n",
        "  '''\n",
        "  Input: Z is the cummulation input to the layer\n",
        "  Output: Returns  sigmoid activation H matrix, sigmoid_memory later used in the backpropogation.\n",
        "  '''\n",
        "   \n",
        "  H = 1/(1+np.exp(-Z))\n",
        "  sigmoid_memory = Z\n",
        "  \n",
        "  return H, sigmoid_memory"
      ],
      "metadata": {
        "id": "rNopgScSCMUx"
      },
      "execution_count": 19,
      "outputs": []
    },
    {
      "cell_type": "code",
      "source": [
        "Z = np.arange(8).reshape(4,2)\n",
        "print (\"sigmoid(Z) = \" + str(sigmoid(Z)))"
      ],
      "metadata": {
        "colab": {
          "base_uri": "https://localhost:8080/"
        },
        "id": "14t4kydxHkF2",
        "outputId": "593951f2-a97e-4a5b-febe-db46fcaf073b"
      },
      "execution_count": 20,
      "outputs": [
        {
          "output_type": "stream",
          "name": "stdout",
          "text": [
            "sigmoid(Z) = (array([[0.5       , 0.73105858],\n",
            "       [0.88079708, 0.95257413],\n",
            "       [0.98201379, 0.99330715],\n",
            "       [0.99752738, 0.99908895]]), array([[0, 1],\n",
            "       [2, 3],\n",
            "       [4, 5],\n",
            "       [6, 7]]))\n"
          ]
        }
      ]
    },
    {
      "cell_type": "code",
      "source": [
        "def relu(Z):\n",
        "  '''\n",
        "  Input: Z is the cummulation input to the layer\n",
        "  Output: Returns relu activation H matrix, relu_memory later used in the backpropogation.\n",
        "  '''\n",
        "\n",
        "  H = np.maximum(0,Z)\n",
        "  assert(H.shape == Z.shape)\n",
        "  \n",
        "  relu_memory = Z \n",
        "  return H, relu_memory"
      ],
      "metadata": {
        "id": "JxxEpArPBzMD"
      },
      "execution_count": 21,
      "outputs": []
    },
    {
      "cell_type": "code",
      "source": [
        "Z = np.array([1, 3, -1, -4, -5, 7, 9, 18]).reshape(4,2)\n",
        "print (\"relu(Z) = \" + str(relu(Z)))"
      ],
      "metadata": {
        "colab": {
          "base_uri": "https://localhost:8080/"
        },
        "id": "n3Rzx8XSHkfj",
        "outputId": "bee89158-5344-482c-d0f4-f2ae7541e13e"
      },
      "execution_count": 22,
      "outputs": [
        {
          "output_type": "stream",
          "name": "stdout",
          "text": [
            "relu(Z) = (array([[ 1,  3],\n",
            "       [ 0,  0],\n",
            "       [ 0,  7],\n",
            "       [ 9, 18]]), array([[ 1,  3],\n",
            "       [-1, -4],\n",
            "       [-5,  7],\n",
            "       [ 9, 18]]))\n"
          ]
        }
      ]
    },
    {
      "cell_type": "code",
      "source": [
        "def softmax(Z):\n",
        "  '''\n",
        "  Input: Z is the cummulation input to the layer\n",
        "  Output: Returns softmax activation H matrix, softmax_memory later used in the backpropogation.\n",
        "  '''\n",
        "  Z_exp = np.exp(Z)\n",
        "\n",
        "  Z_sum = np.sum(Z_exp,axis = 0, keepdims = True)\n",
        "  \n",
        "  H = Z_exp/Z_sum  #normalising step\n",
        "  softmax_memory = Z\n",
        "  \n",
        "  return H, softmax_memory"
      ],
      "metadata": {
        "id": "DFb31iYPBzQB"
      },
      "execution_count": 23,
      "outputs": []
    },
    {
      "cell_type": "code",
      "source": [
        "Z = np.array([[11,19,10], [12, 21, 23]])\n",
        "H, softmax_memory = softmax(Z)\n",
        "print(H)\n",
        "print(softmax_memory)"
      ],
      "metadata": {
        "colab": {
          "base_uri": "https://localhost:8080/"
        },
        "id": "GrnzMOlZHlBu",
        "outputId": "ac0740f6-2f79-441d-9950-0aa1e60f439d"
      },
      "execution_count": 24,
      "outputs": [
        {
          "output_type": "stream",
          "name": "stdout",
          "text": [
            "[[2.68941421e-01 1.19202922e-01 2.26032430e-06]\n",
            " [7.31058579e-01 8.80797078e-01 9.99997740e-01]]\n",
            "[[11 19 10]\n",
            " [12 21 23]]\n"
          ]
        }
      ]
    },
    {
      "cell_type": "markdown",
      "source": [
        "### **Initializing Parameters**"
      ],
      "metadata": {
        "id": "WfHRa_0XG1TP"
      }
    },
    {
      "cell_type": "code",
      "source": [
        "def initialize_parameters(dimensions):\n",
        "  '''\n",
        "  Input: dimensions is a list containing the number of neuron in each layer in the network\n",
        "  Output: Returns parameters which is a python dictionary containing the parameters \"W1\", \"b1\", ..., \"WL\", \"bL\"\n",
        "  '''\n",
        "  np.random.seed(2)\n",
        "  parameters = {}\n",
        "  L = len(dimensions)            # number of layers in the network + 1\n",
        "\n",
        "  for l in range(1, L): \n",
        "      parameters['W' + str(l)] = np.random.randn(dimensions[l], dimensions[l-1]) * 0.1\n",
        "      parameters['b' + str(l)] = np.zeros((dimensions[l], 1)) \n",
        "      \n",
        "      assert(parameters['W' + str(l)].shape == (dimensions[l], dimensions[l-1]))\n",
        "      assert(parameters['b' + str(l)].shape == (dimensions[l], 1))\n",
        "\n",
        "  return parameters"
      ],
      "metadata": {
        "id": "8ZtECxcVBzUN"
      },
      "execution_count": 25,
      "outputs": []
    },
    {
      "cell_type": "code",
      "source": [
        "dimensions  = [784, 3,7,10]\n",
        "parameters = initialize_parameters(dimensions)\n",
        "print(\"W1 = \" + str(parameters[\"W1\"]))\n",
        "print(\"b1 = \" + str(parameters[\"b1\"]))\n",
        "print(\"W2 = \" + str(parameters[\"W2\"]))\n",
        "print(\"b2 = \" + str(parameters[\"b2\"]))\n",
        "# print(\"W3 = \" + str(parameters[\"W3\"]))\n",
        "# print(\"b3 = \" + str(parameters[\"b3\"]))"
      ],
      "metadata": {
        "colab": {
          "base_uri": "https://localhost:8080/"
        },
        "id": "oWeJPMJELPaF",
        "outputId": "0e1e4167-a21d-4437-fe95-721d6e65d793"
      },
      "execution_count": 26,
      "outputs": [
        {
          "output_type": "stream",
          "name": "stdout",
          "text": [
            "W1 = [[-0.04167578 -0.00562668 -0.21361961 ... -0.06168445  0.03213358\n",
            "  -0.09464469]\n",
            " [-0.05301394 -0.1259207   0.16775441 ... -0.03284246 -0.05623108\n",
            "   0.01179136]\n",
            " [ 0.07386378 -0.15872956  0.01532001 ... -0.08428557  0.10040469\n",
            "   0.00545832]]\n",
            "b1 = [[0.]\n",
            " [0.]\n",
            " [0.]]\n",
            "W2 = [[ 0.06650944 -0.19626047  0.2112715 ]\n",
            " [-0.28074571 -0.13967752  0.02641189]\n",
            " [ 0.10925169  0.06646016  0.08565535]\n",
            " [-0.11058228  0.03715795  0.13440124]\n",
            " [-0.16421272 -0.1153127   0.02013163]\n",
            " [ 0.13985659  0.07228733 -0.10717236]\n",
            " [-0.05673344 -0.03663499 -0.15460347]]\n",
            "b2 = [[0.]\n",
            " [0.]\n",
            " [0.]\n",
            " [0.]\n",
            " [0.]\n",
            " [0.]\n",
            " [0.]]\n"
          ]
        }
      ]
    },
    {
      "cell_type": "markdown",
      "source": [
        "## **Forward Pass**"
      ],
      "metadata": {
        "id": "bhb-imHOHYKn"
      }
    },
    {
      "cell_type": "code",
      "source": [
        "# This performs one forward propogation for a certain layer 'l'\n",
        "def layer_forward(H_prev, W, b, activation = 'relu'): \n",
        "  '''\n",
        "  Input: H_prev this is the input cummulative to the current layer, W is weights matrix of shape\n",
        "  b is bias vector of shape, activation to be used for forward propagation : \"softmax\", \"relu\", \"sigmoid\"\n",
        "  Output: Returns H is the output of the activation function, memory is a python dictionary containing linear or activation memory.\n",
        "  '''\n",
        "  \n",
        "  Z = np.dot(W, H_prev) + b\n",
        "  if activation == \"sigmoid\":\n",
        "      linear_memory = (H_prev, W, b)\n",
        "      H, activation_memory = sigmoid(Z)\n",
        "\n",
        "  elif activation == \"softmax\":\n",
        "      linear_memory = (H_prev, W, b)\n",
        "      H, activation_memory = softmax(Z)\n",
        "  \n",
        "  elif activation == \"relu\":\n",
        "      linear_memory = (H_prev, W, b)\n",
        "      H, activation_memory = relu(Z)\n",
        "      \n",
        "  assert (H.shape == (W.shape[0], H_prev.shape[1]))\n",
        "  memory = (linear_memory, activation_memory)\n",
        "\n",
        "  return H, memory"
      ],
      "metadata": {
        "id": "BbSs_goKBzXQ"
      },
      "execution_count": 27,
      "outputs": []
    },
    {
      "cell_type": "code",
      "source": [
        "H_prev = np.array([[1,0, 5, 10, 2], [2, 5, 3, 10, 2]])\n",
        "W_sample = np.array([[10, 5], [2, 0], [1, 0]])\n",
        "b_sample = np.array([10, 5, 0]).reshape((3, 1))\n",
        "\n",
        "H = layer_forward(H_prev, W_sample, b_sample, activation=\"sigmoid\")[0]\n",
        "H"
      ],
      "metadata": {
        "colab": {
          "base_uri": "https://localhost:8080/"
        },
        "id": "1x68q1AoBzaW",
        "outputId": "54e95561-734c-4207-adf4-2990191d2211"
      },
      "execution_count": 28,
      "outputs": [
        {
          "output_type": "execute_result",
          "data": {
            "text/plain": [
              "array([[1.        , 1.        , 1.        , 1.        , 1.        ],\n",
              "       [0.99908895, 0.99330715, 0.99999969, 1.        , 0.99987661],\n",
              "       [0.73105858, 0.5       , 0.99330715, 0.9999546 , 0.88079708]])"
            ]
          },
          "metadata": {},
          "execution_count": 28
        }
      ]
    },
    {
      "cell_type": "code",
      "source": [
        "#This performs one forward pass through the whole network for all training samples.\n",
        "\n",
        "def L_layer_forward(X, parameters):\n",
        "  '''\n",
        "  Input: X is input data, parameters is output of initialize_parameters()\n",
        "  Output: HL is the last layer's post-activation value, memories is the list of memory containing \n",
        "  -every memory of relu forward (there are L-1 of them, indexed from 1 to L-1), \n",
        "  - the memory of softmax forward (there is one, indexed L)\n",
        "  '''\n",
        "\n",
        "  memories = []\n",
        "  H = X\n",
        "  L = len(parameters) // 2   # number of layers in the neural network\n",
        "  \n",
        "  for l in range(1, L):\n",
        "      H_prev = H\n",
        "      W=parameters[\"W\"+str(l)]\n",
        "      b=parameters[\"b\"+str(l)]\n",
        "      H, memory = layer_forward(H_prev, W, b, activation = 'relu')\n",
        "      \n",
        "      memories.append(memory)\n",
        "  # HL here is the final prediction in the final layer.\n",
        "  W=parameters[\"W\"+str(L)]\n",
        "  b=parameters[\"b\"+str(L)]\n",
        "  HL, memory = layer_forward(H, W, b, activation = 'softmax')\n",
        "  \n",
        "  memories.append(memory)\n",
        "\n",
        "  assert(HL.shape == (10, X.shape[1]))\n",
        "          \n",
        "  return HL, memories"
      ],
      "metadata": {
        "id": "_SNkOeisHjOo"
      },
      "execution_count": 29,
      "outputs": []
    },
    {
      "cell_type": "code",
      "source": [
        "# verify\n",
        "# X is (784, 10)\n",
        "# HL should be (10, 10)\n",
        "x_sample = train_set_x[:, 10:20]\n",
        "print(x_sample.shape)\n",
        "HL = L_layer_forward(x_sample, parameters=parameters)[0]\n",
        "print(HL[:, :5])"
      ],
      "metadata": {
        "colab": {
          "base_uri": "https://localhost:8080/"
        },
        "id": "F9Vo4uRhYfNz",
        "outputId": "9a276949-a392-4965-ae8f-66ccd5b96a09"
      },
      "execution_count": 30,
      "outputs": [
        {
          "output_type": "stream",
          "name": "stdout",
          "text": [
            "(784, 10)\n",
            "[[0.10106734 0.10045152 0.09927757 0.10216656 0.1       ]\n",
            " [0.10567625 0.10230873 0.10170271 0.11250099 0.1       ]\n",
            " [0.09824287 0.0992886  0.09967128 0.09609693 0.1       ]\n",
            " [0.10028288 0.10013048 0.09998149 0.10046076 0.1       ]\n",
            " [0.09883601 0.09953443 0.09931419 0.097355   0.1       ]\n",
            " [0.10668575 0.10270912 0.10180736 0.11483609 0.1       ]\n",
            " [0.09832513 0.09932275 0.09954792 0.09627089 0.1       ]\n",
            " [0.09747092 0.09896735 0.0995387  0.09447277 0.1       ]\n",
            " [0.09489069 0.09788255 0.09929998 0.08915178 0.1       ]\n",
            " [0.09852217 0.09940447 0.09985881 0.09668824 0.1       ]]\n"
          ]
        }
      ]
    },
    {
      "cell_type": "markdown",
      "source": [
        "### **Loss**"
      ],
      "metadata": {
        "id": "0eWUZjRLYj0l"
      }
    },
    {
      "cell_type": "code",
      "source": [
        "# Cross entropy loss\n",
        "def compute_loss(HL, Y):\n",
        "  '''\n",
        "  Input: HL is the output probability from the network, Y is the true labels\n",
        "  Output: Cross-entropy loss\n",
        "  '''\n",
        "  m = Y.shape[1]\n",
        "  loss = -(1./m)*np.sum(np.multiply(Y,np.log(HL)))\n",
        "  \n",
        "  loss = np.squeeze(loss) # To make sure that the loss's shape is what we expect (e.g. this turns [[17]] into 17).\n",
        "  assert(loss.shape == ())\n",
        "  \n",
        "  return loss"
      ],
      "metadata": {
        "id": "zmphsLWiYfQ5"
      },
      "execution_count": 31,
      "outputs": []
    },
    {
      "cell_type": "code",
      "source": [
        "# sample\n",
        "\n",
        "np.random.seed(2)\n",
        "HL_sample = np.random.rand(10,5)\n",
        "Y_sample = train_set_y[:, 10:15]\n",
        "print(HL_sample)\n",
        "print(Y_sample)\n",
        "\n",
        "print(compute_loss(HL_sample, Y_sample))"
      ],
      "metadata": {
        "colab": {
          "base_uri": "https://localhost:8080/"
        },
        "id": "-1Z-mE6nYfU3",
        "outputId": "4add9f0d-ad4f-4bf5-bad2-1dd21afb9372"
      },
      "execution_count": 33,
      "outputs": [
        {
          "output_type": "stream",
          "name": "stdout",
          "text": [
            "[[0.4359949  0.02592623 0.54966248 0.43532239 0.4203678 ]\n",
            " [0.33033482 0.20464863 0.61927097 0.29965467 0.26682728]\n",
            " [0.62113383 0.52914209 0.13457995 0.51357812 0.18443987]\n",
            " [0.78533515 0.85397529 0.49423684 0.84656149 0.07964548]\n",
            " [0.50524609 0.0652865  0.42812233 0.09653092 0.12715997]\n",
            " [0.59674531 0.226012   0.10694568 0.22030621 0.34982629]\n",
            " [0.46778748 0.20174323 0.64040673 0.48306984 0.50523672]\n",
            " [0.38689265 0.79363745 0.58000418 0.1622986  0.70075235]\n",
            " [0.96455108 0.50000836 0.88952006 0.34161365 0.56714413]\n",
            " [0.42754596 0.43674726 0.77655918 0.53560417 0.95374223]]\n",
            "[[0. 0. 0. 0. 0.]\n",
            " [0. 0. 0. 0. 1.]\n",
            " [0. 0. 0. 0. 0.]\n",
            " [1. 0. 1. 0. 0.]\n",
            " [0. 0. 0. 0. 0.]\n",
            " [0. 1. 0. 0. 0.]\n",
            " [0. 0. 0. 1. 0.]\n",
            " [0. 0. 0. 0. 0.]\n",
            " [0. 0. 0. 0. 0.]\n",
            " [0. 0. 0. 0. 0.]]\n",
            "0.8964600261334037\n"
          ]
        }
      ]
    },
    {
      "cell_type": "code",
      "source": [
        "# Cross entropy loss with L2 regularization\n",
        "def compute_loss_with_L2(HL, Y, parameters, lambdax):\n",
        "  '''\n",
        "  Input: HL is the output probability from the network, Y is the true labels\n",
        "  Output: Cross-entropy loss\n",
        "  '''\n",
        "\n",
        "  L = len(parameters) // 2   # Number of layers\n",
        "\n",
        "  m = Y.shape[1]\n",
        "  loss = -(1./m)*np.sum(np.multiply(Y,np.log(HL)))\n",
        "  total_sum  =0\n",
        "  for l in range(1, L):\n",
        "    total_sum += np.sum(np.square(parameters[\"W\"+str(l)]))\n",
        "  L2_regularization_cost = (lambdax/(2*m))*total_sum\n",
        "  # L2_regularization_cost = (lambdax/(2*m))*(np.sum(np.square(W1) + np.sum(np.square(W2) + np.sum(np.square(W2)))\n",
        "  # print(\"L2 loss before \", L2_regularization_cost)\n",
        "  loss = loss + L2_regularization_cost\n",
        "  loss = np.squeeze(loss) # To make sure that the loss's shape is what we expect (e.g. this turns [[17]] into 17).\n",
        "  assert(loss.shape == ())\n",
        "  \n",
        "  return loss"
      ],
      "metadata": {
        "id": "XQCXS59cT5Dn"
      },
      "execution_count": 36,
      "outputs": []
    },
    {
      "cell_type": "code",
      "source": [
        "# sample\n",
        "\n",
        "np.random.seed(2)\n",
        "HL_sample = np.random.rand(10,5)\n",
        "Y_sample = train_set_y[:, 10:15]\n",
        "print(HL_sample)\n",
        "print(Y_sample)\n",
        "\n",
        "print(compute_loss_with_L2(HL_sample, Y_sample, parameters, 0.7))"
      ],
      "metadata": {
        "colab": {
          "base_uri": "https://localhost:8080/"
        },
        "id": "V9bf3B_wXRvt",
        "outputId": "1f7c871e-e49a-4c42-b59c-ec500b4d6cb3"
      },
      "execution_count": 37,
      "outputs": [
        {
          "output_type": "stream",
          "name": "stdout",
          "text": [
            "[[0.4359949  0.02592623 0.54966248 0.43532239 0.4203678 ]\n",
            " [0.33033482 0.20464863 0.61927097 0.29965467 0.26682728]\n",
            " [0.62113383 0.52914209 0.13457995 0.51357812 0.18443987]\n",
            " [0.78533515 0.85397529 0.49423684 0.84656149 0.07964548]\n",
            " [0.50524609 0.0652865  0.42812233 0.09653092 0.12715997]\n",
            " [0.59674531 0.226012   0.10694568 0.22030621 0.34982629]\n",
            " [0.46778748 0.20174323 0.64040673 0.48306984 0.50523672]\n",
            " [0.38689265 0.79363745 0.58000418 0.1622986  0.70075235]\n",
            " [0.96455108 0.50000836 0.88952006 0.34161365 0.56714413]\n",
            " [0.42754596 0.43674726 0.77655918 0.53560417 0.95374223]]\n",
            "[[0. 0. 0. 0. 0.]\n",
            " [0. 0. 0. 0. 1.]\n",
            " [0. 0. 0. 0. 0.]\n",
            " [1. 0. 1. 0. 0.]\n",
            " [0. 0. 0. 0. 0.]\n",
            " [0. 1. 0. 0. 0.]\n",
            " [0. 0. 0. 1. 0.]\n",
            " [0. 0. 0. 0. 0.]\n",
            " [0. 0. 0. 0. 0.]\n",
            " [0. 0. 0. 0. 0.]]\n",
            "2.5432468864562114\n"
          ]
        }
      ]
    },
    {
      "cell_type": "markdown",
      "source": [
        "### **BackPropogation**"
      ],
      "metadata": {
        "id": "WTGEldWbZj-J"
      }
    },
    {
      "cell_type": "markdown",
      "source": [
        " **sigmoid-backward & relu-backward**"
      ],
      "metadata": {
        "id": "IMV7ICtEaCeV"
      }
    },
    {
      "cell_type": "code",
      "source": [
        "# Backpropogation fo the sigmoid function\n",
        "def sigmoid_backward(dH, sigmoid_memory):\n",
        "  '''\n",
        "  Input: dH is gradient of the sigmoid activated activation of shape same as H or Z in the same layer,\n",
        "  sigmoid_memory is the memory stored in the sigmoid(Z) calculation.\n",
        "  Output: Returns derivate of Loss w.r.t Z\n",
        "  '''\n",
        "  # sigmoid_memory is the memory stored in the sigmoid(Z) calculation\n",
        "  \n",
        "  Z = sigmoid_memory\n",
        "  \n",
        "  H = 1/(1+np.exp(-Z))\n",
        "  dZ = dH * H * (1-H)\n",
        "  \n",
        "  assert (dZ.shape == Z.shape)\n",
        "  \n",
        "  return dZ"
      ],
      "metadata": {
        "id": "adriZS-lZgq_"
      },
      "execution_count": 38,
      "outputs": []
    },
    {
      "cell_type": "code",
      "source": [
        "# Backpropogation fo the sigmoid function\n",
        "def relu_backward(dH, relu_memory):\n",
        "  '''\n",
        "  Input: dH is gradient of the relu activated activation of shape same as H or Z in the same layer,\n",
        "  relu_memory is the memory stored in the relu(Z) calculation.\n",
        "  Output: Returns derivate of Loss w.r.t Z\n",
        "  '''\n",
        "\n",
        "  Z = relu_memory\n",
        "  dZ = np.array(dH, copy=True) # dZ will be the same as dA wherever the elements of A weren't 0\n",
        "  \n",
        "  dZ[Z <= 0] = 0\n",
        "  \n",
        "  assert (dZ.shape == Z.shape)\n",
        "  \n",
        "  return dZ"
      ],
      "metadata": {
        "id": "iYrECScpZgvY"
      },
      "execution_count": 39,
      "outputs": []
    },
    {
      "cell_type": "code",
      "source": [
        "#Graded\n",
        "\n",
        "def layer_backward(dH, memory, activation = 'relu'):\n",
        "  '''\n",
        "  Input: takes dH and the memory calculated in layer_forward and activation\n",
        "  Output: Returns to calculate the dH_prev, dW, db\n",
        "  '''\n",
        "\n",
        "\n",
        "  linear_memory, activation_memory = memory\n",
        "  \n",
        "  if activation == \"relu\":\n",
        "      dZ = relu_backward(dH,activation_memory)\n",
        "      H_prev, W, b = linear_memory\n",
        "      m = H_prev.shape[1]\n",
        "      dW = (1./m) * np.dot(dZ,H_prev.transpose())\n",
        "      db = (1./m) * np.sum(dZ,axis=1)\n",
        "      db = np.reshape(db,(-1, 1))\n",
        "      dH_prev = np.dot(W.transpose(),dZ)\n",
        "      \n",
        "  elif activation == \"sigmoid\":\n",
        "      dZ = sigmoid_backward(dH, activation_memory)\n",
        "      H_prev, W, b = linear_memory\n",
        "      m = H_prev.shape[1]\n",
        "      dW = (1./m) * np.dot(dZ,H_prev.transpose())\n",
        "      db = (1./m) * np.sum(dZ,axis=1)\n",
        "      db = np.reshape(db,(-1, 1))\n",
        "      dH_prev = np.dot(W.transpose(),dZ)\n",
        "  \n",
        "  return dH_prev, dW, db"
      ],
      "metadata": {
        "id": "n5_7-1sFZgx_"
      },
      "execution_count": 40,
      "outputs": []
    },
    {
      "cell_type": "code",
      "source": [
        "H_prev = np.array([[1,0, 5, 10, 2], [2, 5, 3, 10, 2]])\n",
        "W_sample = np.array([[10, 5], [2, 0], [1, 0]])\n",
        "b_sample = np.array([10, 5, 0]).reshape((3, 1))\n",
        "\n",
        "H, memory = layer_forward(H_prev, W_sample, b_sample, activation=\"relu\")\n",
        "np.random.seed(2)\n",
        "dH = np.random.rand(3,5)\n",
        "dH_prev, dW, db = layer_backward(dH, memory, activation = 'relu')\n",
        "print('dH_prev is \\n' , dH_prev)\n",
        "print('dW is \\n' ,dW)\n",
        "print('db is \\n', db)"
      ],
      "metadata": {
        "colab": {
          "base_uri": "https://localhost:8080/"
        },
        "id": "19uUnRgReOz3",
        "outputId": "0a617492-f17c-43f1-9e16-9956b9b790b2"
      },
      "execution_count": 41,
      "outputs": [
        {
          "output_type": "stream",
          "name": "stdout",
          "text": [
            "dH_prev is \n",
            " [[5.6417525  0.66855959 6.86974666 5.46611139 4.92177244]\n",
            " [2.17997451 0.12963116 2.74831239 2.17661196 2.10183901]]\n",
            "dW is \n",
            " [[1.67565336 1.56891359]\n",
            " [1.39137819 1.4143854 ]\n",
            " [1.3597389  1.43013369]]\n",
            "db is \n",
            " [[0.37345476]\n",
            " [0.34414727]\n",
            " [0.29074635]]\n"
          ]
        }
      ]
    },
    {
      "cell_type": "code",
      "source": [
        "def L_layer_backward(HL, Y, memories):\n",
        "  '''\n",
        "  Input: predicted value HL and the true target value Y and memories calculated by L_layer_forward\n",
        "  Output: Returns gradient.\n",
        "  '''\n",
        "\n",
        "  gradients = {}\n",
        "  L = len(memories) # the number of layers\n",
        "  m = HL.shape[1]\n",
        "  Y = Y.reshape(HL.shape) # after this line, Y is the same shape as AL\n",
        "  \n",
        "  # Perform the backprop for the last layer that is the softmax layer\n",
        "  current_memory = memories[-1]\n",
        "  linear_memory, activation_memory = current_memory\n",
        "  dZ = HL - Y\n",
        "  H_prev, W, b = linear_memory\n",
        "  \n",
        "  gradients[\"dH\" + str(L-1)] = np.dot(W.transpose(),dZ)\n",
        "  gradients[\"dW\" + str(L)] = (1./m) * np.dot(dZ,H_prev.transpose())\n",
        "  db = (1./m) * np.sum(dZ,axis=1)\n",
        "  db = np.reshape(db,(-1, 1))\n",
        "  gradients[\"db\" + str(L)] = db\n",
        "  \n",
        "  # Perform the backpropagation l-1 times\n",
        "  for l in reversed(range(L-1)):\n",
        "      # Lth layer gradients: \"gradients[\"dH\" + str(l + 1)] \", gradients[\"dW\" + str(l + 2)] , gradients[\"db\" + str(l + 2)]\n",
        "      current_memory = memories[l]\n",
        "      \n",
        "      dH_prev_temp, dW_temp, db_temp = layer_backward(gradients[\"dH\" + str(l + 1)], current_memory, activation = 'relu')\n",
        "      gradients[\"dH\" + str(l)] = dH_prev_temp\n",
        "      gradients[\"dW\" + str(l + 1)] = dW_temp\n",
        "      gradients[\"db\" + str(l + 1)] = db_temp\n",
        "\n",
        "\n",
        "  return gradients"
      ],
      "metadata": {
        "id": "OR5gNsOnYfWd"
      },
      "execution_count": 42,
      "outputs": []
    },
    {
      "cell_type": "code",
      "source": [
        "def L_layer_backward_with_L2(HL, Y, memories, lambdax):\n",
        "  '''\n",
        "  Input: predicted value HL and the true target value Y and memories calculated by L_layer_forward\n",
        "  Output: Returns gradient.\n",
        "  '''\n",
        "\n",
        "  gradients = {}\n",
        "  L = len(memories) # the number of layers\n",
        "  m = HL.shape[1]\n",
        "  Y = Y.reshape(HL.shape) # after this line, Y is the same shape as AL\n",
        "  \n",
        "  # Perform the backprop for the last layer that is the softmax layer\n",
        "  current_memory = memories[-1]\n",
        "  linear_memory, activation_memory = current_memory\n",
        "  dZ = HL - Y\n",
        "  H_prev, W, b = linear_memory\n",
        "  \n",
        "  gradients[\"dH\" + str(L-1)] = np.dot(W.transpose(),dZ)\n",
        "  gradients[\"dW\" + str(L)] = (1./m) * np.dot(dZ,H_prev.transpose())\n",
        "  gradients[\"dW\" + str(L)] += (lambdax * gradients[\"dW\" + str(L)])/m\n",
        "  db = (1./m) * np.sum(dZ,axis=1)\n",
        "  db = np.reshape(db,(-1, 1))\n",
        "  gradients[\"db\" + str(L)] = db\n",
        "  \n",
        "  # Perform the backpropagation l-1 times\n",
        "  for l in reversed(range(L-1)):\n",
        "      # Lth layer gradients: \"gradients[\"dH\" + str(l + 1)] \", gradients[\"dW\" + str(l + 2)] , gradients[\"db\" + str(l + 2)]\n",
        "      current_memory = memories[l]\n",
        "      \n",
        "      dH_prev_temp, dW_temp, db_temp = layer_backward(gradients[\"dH\" + str(l + 1)], current_memory, activation = 'relu')\n",
        "      gradients[\"dH\" + str(l)] = dH_prev_temp\n",
        "      gradients[\"dW\" + str(l + 1)] = dW_temp\n",
        "      # print(\"checking shape:\",(lambdax * gradients[\"dW\" + str(l+1)])/m)\n",
        "      gradients[\"dW\" + str(l + 1)] += (lambdax * gradients[\"dW\" + str(l+1)])/m\n",
        "      gradients[\"db\" + str(l + 1)] = db_temp\n",
        "\n",
        "\n",
        "  return gradients"
      ],
      "metadata": {
        "id": "hhtMhDSzZrWy"
      },
      "execution_count": 59,
      "outputs": []
    },
    {
      "cell_type": "code",
      "source": [
        "x_sample = train_set_x[:, 10:20]\n",
        "y_sample = train_set_y[:, 10:20]\n",
        "\n",
        "HL, memories = L_layer_forward(x_sample, parameters=parameters)\n",
        "gradients  = L_layer_backward_with_L2(HL, y_sample, memories, 0.7)\n",
        "print('dW3 is \\n', gradients['dW3'])\n",
        "print('db3 is \\n', gradients['db3'])\n",
        "print('dW2 is \\n', gradients['dW2'])\n",
        "print('db2 is \\n', gradients['db2'])"
      ],
      "metadata": {
        "colab": {
          "base_uri": "https://localhost:8080/"
        },
        "id": "P5mVHSFreWEH",
        "outputId": "1d8634ee-11d2-4600-985e-da13f06a7337"
      },
      "execution_count": 60,
      "outputs": [
        {
          "output_type": "stream",
          "name": "stdout",
          "text": [
            "dW3 is \n",
            " [[ 0.0214396   0.00203761  0.0108255   0.015596    0.00156695  0.00064053\n",
            "   0.        ]\n",
            " [ 0.02305365  0.00217765  0.01161644  0.0167677   0.00167422  0.0006477\n",
            "   0.        ]\n",
            " [-0.01838696 -0.00292871 -0.00534038 -0.00975984 -0.00221881  0.00064196\n",
            "   0.        ]\n",
            " [-0.01221403 -0.00169725 -0.00649543 -0.00989439 -0.00127992  0.00064608\n",
            "   0.        ]\n",
            " [ 0.02079195  0.00197105  0.01053461  0.01515513  0.00151594  0.0006386\n",
            "   0.        ]\n",
            " [ 0.01118628  0.00068452  0.00682254  0.00923737  0.00053626  0.00064672\n",
            "   0.        ]\n",
            " [-0.06782635 -0.00799559 -0.02591208 -0.04104208 -0.0062181   0.00064564\n",
            "   0.        ]\n",
            " [ 0.02045169  0.00193135  0.00752318  0.01290805  0.00148554 -0.00150372\n",
            "   0.        ]\n",
            " [-0.01927716  0.0018572  -0.01593474 -0.02167901  0.00142875  0.00064482\n",
            "   0.        ]\n",
            " [ 0.02078132  0.00196217  0.00636036  0.01271105  0.00150916 -0.00364833\n",
            "   0.        ]]\n",
            "db3 is \n",
            " [[ 0.10031756]\n",
            " [ 0.00460183]\n",
            " [-0.00142942]\n",
            " [-0.0997827 ]\n",
            " [ 0.09872663]\n",
            " [ 0.00536378]\n",
            " [-0.10124784]\n",
            " [-0.00191121]\n",
            " [-0.00359044]\n",
            " [-0.00104818]]\n",
            "dW2 is \n",
            " [[ 5.29038983e-05  1.21140600e-02  5.82273006e-02]\n",
            " [-5.14955777e-05 -3.17789409e-05 -1.94632553e-02]\n",
            " [ 6.02864036e-05  5.10593378e-03  4.33146948e-02]\n",
            " [ 1.60251201e-04 -2.03065592e-03 -8.46617565e-03]\n",
            " [ 2.11716720e-04  1.30654581e-04  2.82630406e-02]\n",
            " [ 0.00000000e+00 -4.02112173e-04  1.75379529e-05]\n",
            " [ 0.00000000e+00  0.00000000e+00  0.00000000e+00]]\n",
            "db2 is \n",
            " [[ 0.013979  ]\n",
            " [-0.01329383]\n",
            " [ 0.01275707]\n",
            " [-0.01052957]\n",
            " [ 0.03179224]\n",
            " [-0.00039877]\n",
            " [ 0.        ]]\n"
          ]
        }
      ]
    },
    {
      "cell_type": "markdown",
      "source": [
        "### **Update Parameters**"
      ],
      "metadata": {
        "id": "d-H57NsYeeIV"
      }
    },
    {
      "cell_type": "code",
      "source": [
        "def update_parameters(parameters, gradients, learning_rate):\n",
        "  '''\n",
        "  Input: Takes in all the parameters, gradients and learning rate\n",
        "  Output: Returns the updated parameters.\n",
        "  '''\n",
        "  L = len(parameters) // 2 # number of layers in the neural network\n",
        "  for l in range(L):\n",
        "      parameters[\"W\" + str(l+1)] = parameters[\"W\" + str(l+1)] - learning_rate * gradients[\"dW\" + str(l+1)]\n",
        "      parameters[\"b\" + str(l+1)] = parameters[\"b\" + str(l+1)] - learning_rate * gradients[\"db\" + str(l+1)]\n",
        "  \n",
        "  return parameters"
      ],
      "metadata": {
        "id": "2GgMc5edeWLV"
      },
      "execution_count": 45,
      "outputs": []
    },
    {
      "cell_type": "code",
      "source": [
        "dimensions = [784, 45, 10] #  three-layer model"
      ],
      "metadata": {
        "id": "utACZW0vfFUG"
      },
      "execution_count": 46,
      "outputs": []
    },
    {
      "cell_type": "markdown",
      "source": [
        "### **Model**"
      ],
      "metadata": {
        "id": "QyhWycqXfHbc"
      }
    },
    {
      "cell_type": "code",
      "source": [
        "def L_layer_model(X, Y, dimensions, learning_rate = 0.0075, num_iterations = 3000, print_loss=False):\n",
        "  '''\n",
        "  Input: X and Y are the input training datasets, learning_rate, num_iterations are for gradient descent optimization.\n",
        "  Output: Returns the optimized parameters.\n",
        "  '''\n",
        "  np.random.seed(2)\n",
        "  losses = []# keep track of loss\n",
        "  \n",
        "  # Parameters initialization\n",
        "  parameters = initialize_parameters(dimensions)\n",
        "\n",
        "  for i in range(0, num_iterations):\n",
        "\n",
        "      # Forward propagation\n",
        "      HL, memories = L_layer_forward(X, parameters)\n",
        "      \n",
        "      # Compute loss\n",
        "      loss = compute_loss(HL, Y)\n",
        "  \n",
        "      # Backward propagation\n",
        "      gradients = L_layer_backward(HL, Y, memories)\n",
        "\n",
        "      # Update parameters.\n",
        "      parameters = update_parameters(parameters, gradients, learning_rate)\n",
        "      \n",
        "      # Printing the loss every 100 training example\n",
        "      if print_loss and i % 100 == 0:\n",
        "          print (\"Loss after iteration %i: %f\" %(i, loss))\n",
        "          losses.append(loss)\n",
        "          \n",
        "  # plotting the loss\n",
        "  plt.plot(np.squeeze(losses))\n",
        "  plt.ylabel('loss')\n",
        "  plt.xlabel('iterations (per tens)')\n",
        "  plt.title(\"Learning rate =\" + str(learning_rate))\n",
        "  plt.show()\n",
        "  \n",
        "  return parameters"
      ],
      "metadata": {
        "id": "3tJNXskjfL3-"
      },
      "execution_count": 47,
      "outputs": []
    },
    {
      "cell_type": "code",
      "source": [
        "train_set_x_new = train_set_x[:,0:5000]\n",
        "train_set_y_new = train_set_y[:,0:5000]\n",
        "train_set_x_new.shape"
      ],
      "metadata": {
        "colab": {
          "base_uri": "https://localhost:8080/"
        },
        "id": "XF8nHnfTfMEH",
        "outputId": "4152d00e-f15f-4f81-98de-dafa4a5db69c"
      },
      "execution_count": 50,
      "outputs": [
        {
          "output_type": "execute_result",
          "data": {
            "text/plain": [
              "(784, 5000)"
            ]
          },
          "metadata": {},
          "execution_count": 50
        }
      ]
    },
    {
      "cell_type": "code",
      "source": [
        "parameters = L_layer_model(train_set_x_new, train_set_y_new, dimensions, num_iterations = 2000, print_loss = True)"
      ],
      "metadata": {
        "colab": {
          "base_uri": "https://localhost:8080/",
          "height": 642
        },
        "id": "vBH1GTPzgtq6",
        "outputId": "ce99c112-8e69-402a-8c07-7c4f93362527"
      },
      "execution_count": 44,
      "outputs": [
        {
          "output_type": "stream",
          "name": "stdout",
          "text": [
            "Loss after iteration 0: 2.422624\n",
            "Loss after iteration 100: 2.129232\n",
            "Loss after iteration 200: 1.876095\n",
            "Loss after iteration 300: 1.604213\n",
            "Loss after iteration 400: 1.350205\n",
            "Loss after iteration 500: 1.144823\n",
            "Loss after iteration 600: 0.990554\n",
            "Loss after iteration 700: 0.876603\n",
            "Loss after iteration 800: 0.791154\n",
            "Loss after iteration 900: 0.725441\n",
            "Loss after iteration 1000: 0.673485\n",
            "Loss after iteration 1100: 0.631386\n",
            "Loss after iteration 1200: 0.596598\n",
            "Loss after iteration 1300: 0.567342\n",
            "Loss after iteration 1400: 0.542346\n",
            "Loss after iteration 1500: 0.520746\n",
            "Loss after iteration 1600: 0.501865\n",
            "Loss after iteration 1700: 0.485205\n",
            "Loss after iteration 1800: 0.470368\n",
            "Loss after iteration 1900: 0.457054\n"
          ]
        },
        {
          "output_type": "display_data",
          "data": {
            "text/plain": [
              "<Figure size 432x288 with 1 Axes>"
            ],
            "image/png": "[encoded data removed]"
          },
          "metadata": {
            "needs_background": "light"
          }
        }
      ]
    },
    {
      "cell_type": "code",
      "source": [
        "def L_layer_model_L2_regularization(X, Y, dimensions, learning_rate = 0.0075, num_iterations = 3000, print_loss=False, lambdax = 0):\n",
        "  '''\n",
        "  Input: X and Y are the input training datasets, learning_rate, num_iterations are for gradient descent optimization.\n",
        "  Output: Returns the optimized parameters.\n",
        "  '''\n",
        "  np.random.seed(2)\n",
        "  losses = []# keep track of loss\n",
        "  \n",
        "  # Parameters initialization\n",
        "  parameters = initialize_parameters(dimensions)\n",
        "\n",
        "  for i in range(0, num_iterations):\n",
        "\n",
        "      # Forward propagation\n",
        "      HL, memories = L_layer_forward(X, parameters)\n",
        "      \n",
        "      # Compute loss\n",
        "      loss = compute_loss_with_L2(HL, Y, parameters, lambdax)\n",
        "  \n",
        "      # Backward propagation\n",
        "      gradients = L_layer_backward_with_L2(HL, Y, memories, lambdax)\n",
        "\n",
        "      # Update parameters.\n",
        "      parameters = update_parameters(parameters, gradients, learning_rate)\n",
        "      \n",
        "      # Printing the loss every 100 training example\n",
        "      if print_loss and i % 100 == 0:\n",
        "          print (\"Loss after iteration %i: %f\" %(i, loss))\n",
        "          losses.append(loss)\n",
        "          \n",
        "  # plotting the loss\n",
        "  plt.plot(np.squeeze(losses))\n",
        "  plt.ylabel('loss')\n",
        "  plt.xlabel('iterations (per tens)')\n",
        "  plt.title(\"Learning rate =\" + str(learning_rate))\n",
        "  plt.show()\n",
        "  \n",
        "  return parameters"
      ],
      "metadata": {
        "id": "D4Z6HKnrS2de"
      },
      "execution_count": 61,
      "outputs": []
    },
    {
      "cell_type": "code",
      "source": [
        "parameters = L_layer_model_L2_regularization(train_set_x_new, train_set_y_new, dimensions, num_iterations = 2000, print_loss = True, lambdax = 0.7)"
      ],
      "metadata": {
        "colab": {
          "base_uri": "https://localhost:8080/",
          "height": 642
        },
        "id": "OZSVKbwWSsvj",
        "outputId": "6e554e52-401a-4ecf-ba12-e16161d6399c"
      },
      "execution_count": 62,
      "outputs": [
        {
          "output_type": "stream",
          "name": "stdout",
          "text": [
            "Loss after iteration 0: 2.447456\n",
            "Loss after iteration 100: 2.154030\n",
            "Loss after iteration 200: 1.900876\n",
            "Loss after iteration 300: 1.629002\n",
            "Loss after iteration 400: 1.375035\n",
            "Loss after iteration 500: 1.169724\n",
            "Loss after iteration 600: 1.015534\n",
            "Loss after iteration 700: 0.901658\n",
            "Loss after iteration 800: 0.816278\n",
            "Loss after iteration 900: 0.750627\n",
            "Loss after iteration 1000: 0.698728\n",
            "Loss after iteration 1100: 0.656680\n",
            "Loss after iteration 1200: 0.621938\n",
            "Loss after iteration 1300: 0.592725\n",
            "Loss after iteration 1400: 0.567769\n",
            "Loss after iteration 1500: 0.546205\n",
            "Loss after iteration 1600: 0.527359\n",
            "Loss after iteration 1700: 0.510731\n",
            "Loss after iteration 1800: 0.495926\n",
            "Loss after iteration 1900: 0.482640\n"
          ]
        },
        {
          "output_type": "display_data",
          "data": {
            "text/plain": [
              "<Figure size 432x288 with 1 Axes>"
            ],
            "image/png": "[encoded data removed]"
          },
          "metadata": {
            "needs_background": "light"
          }
        }
      ]
    },
    {
      "cell_type": "code",
      "source": [
        "def predict(X, y, parameters):\n",
        "  '''\n",
        "  Input: Input data X, y, optimized parameters\n",
        "  Output: returns the predicitons\n",
        "  '''\n",
        "  m = X.shape[1]\n",
        "  n = len(parameters) // 2 # number of layers in the neural network\n",
        "  \n",
        "  # Forward propagation\n",
        "  probas, caches = L_layer_forward(X, parameters)\n",
        "  \n",
        "  p = np.argmax(probas, axis = 0)\n",
        "  act = np.argmax(y, axis = 0)\n",
        "\n",
        "  print(\"Accuracy: \"  + str(np.sum((p == act)/m)))\n",
        "      \n",
        "  return p"
      ],
      "metadata": {
        "id": "jJ2y-zG3gtul"
      },
      "execution_count": 45,
      "outputs": []
    },
    {
      "cell_type": "code",
      "source": [
        "# Train set predictions\n",
        "pred_train = predict(train_set_x_new, train_set_y_new, parameters)"
      ],
      "metadata": {
        "colab": {
          "base_uri": "https://localhost:8080/"
        },
        "id": "Ji4eRknQgtws",
        "outputId": "9005cc34-10ba-446c-a068-fd6d5b7c2d5c"
      },
      "execution_count": 46,
      "outputs": [
        {
          "output_type": "stream",
          "name": "stdout",
          "text": [
            "Accuracy: 0.8774000000000002\n"
          ]
        }
      ]
    },
    {
      "cell_type": "code",
      "source": [
        "# Test set predicitons\n",
        "pred_test = predict(test_set_x, test_set_y, parameters)"
      ],
      "metadata": {
        "colab": {
          "base_uri": "https://localhost:8080/"
        },
        "id": "41IkJb-1iTtA",
        "outputId": "3323874c-2fd4-4e9c-97d8-bb99122368aa"
      },
      "execution_count": 47,
      "outputs": [
        {
          "output_type": "stream",
          "name": "stdout",
          "text": [
            "Accuracy: 0.8674000000000002\n"
          ]
        }
      ]
    },
    {
      "cell_type": "code",
      "source": [
        "# Visualizing the true labels Images and prediction\n",
        "index  = 3474\n",
        "k = test_set_x[:,index]\n",
        "k = k.reshape((28, 28))\n",
        "plt.title('Label is {label}'.format(label=(pred_test[index], np.argmax(test_set_y, axis = 0)[index])))\n",
        "plt.imshow(k, cmap='gray')"
      ],
      "metadata": {
        "colab": {
          "base_uri": "https://localhost:8080/",
          "height": 298
        },
        "id": "cdB_00qwiTx3",
        "outputId": "111712e8-86d1-4dfc-f737-8ff70c76baaf"
      },
      "execution_count": 48,
      "outputs": [
        {
          "output_type": "execute_result",
          "data": {
            "text/plain": [
              "<matplotlib.image.AxesImage at 0x7f4e1b7c9b50>"
            ]
          },
          "metadata": {},
          "execution_count": 48
        },
        {
          "output_type": "display_data",
          "data": {
            "text/plain": [
              "<Figure size 432x288 with 1 Axes>"
            ],
            "image/png": "[encoded data removed]"
          },
          "metadata": {
            "needs_background": "light"
          }
        }
      ]
    },
    {
      "cell_type": "code",
      "source": [
        ""
      ],
      "metadata": {
        "id": "iBhmpbfmkTA9"
      },
      "execution_count": 48,
      "outputs": []
    }
  ]
}