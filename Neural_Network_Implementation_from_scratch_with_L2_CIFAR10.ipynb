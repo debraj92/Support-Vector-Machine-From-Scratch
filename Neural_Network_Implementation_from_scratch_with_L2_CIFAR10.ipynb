{
  "nbformat": 4,
  "nbformat_minor": 0,
  "metadata": {
    "colab": {
      "name": "Neural_Network_Implementation_from_scratch_with_L2_CIFAR10.ipynb",
      "provenance": [],
      "collapsed_sections": []
    },
    "kernelspec": {
      "name": "python3",
      "display_name": "Python 3"
    },
    "language_info": {
      "name": "python"
    }
  },
  "cells": [
    {
      "cell_type": "markdown",
      "source": [
        "### **Data** **Preparation**"
      ],
      "metadata": {
        "id": "cF5zCrVl4LuY"
      }
    },
    {
      "cell_type": "code",
      "execution_count": null,
      "metadata": {
        "id": "DcyoXPch4KlY"
      },
      "outputs": [],
      "source": [
        "import numpy as np\n",
        "import pickle\n",
        "import gzip\n",
        "import matplotlib.pyplot as plt\n",
        "import pandas as pd\n",
        "import numpy as np\n",
        "import matplotlib.pyplot as plt\n",
        "import h5py\n",
        "import sklearn\n",
        "import sklearn.datasets\n",
        "import scipy\n",
        "from PIL import Image\n",
        "from scipy import ndimage\n",
        "from keras.datasets import cifar10\n",
        "\n",
        "%matplotlib inline"
      ]
    },
    {
      "cell_type": "code",
      "source": [
        "# def load_data():\n",
        "#   '''\n",
        "#   Reads the .pkl file and loads data into variables\n",
        "#   '''\n",
        "#   f = gzip.open('mnist.pkl.gz', 'rb')\n",
        "#   f.seek(0)\n",
        "#   training_data, validation_data, test_data = pickle.load(f, encoding='latin1')\n",
        "#   f.close()\n",
        "#   return (training_data, validation_data, test_data)"
      ],
      "metadata": {
        "id": "YVi1OffT4RzT"
      },
      "execution_count": null,
      "outputs": []
    },
    {
      "cell_type": "code",
      "source": [
        "def cifar10_load_data():\n",
        "  (trainX, trainY), (testX, testY) = cifar10.load_data()\n",
        "  return trainX, trainY, testX, testY"
      ],
      "metadata": {
        "id": "Q94MIy2Dftuy"
      },
      "execution_count": null,
      "outputs": []
    },
    {
      "cell_type": "code",
      "source": [
        "trainX, trainY, testX, testY = cifar10_load_data()\n",
        "\n",
        "training_data = []\n",
        "test_data = []\n",
        "\n",
        "training_data.append(trainX)\n",
        "training_data.append(trainY)\n",
        "\n",
        "test_data.append(testX)\n",
        "test_data.append(testY)"
      ],
      "metadata": {
        "id": "dSYPP4pcg-Ha",
        "colab": {
          "base_uri": "https://localhost:8080/"
        },
        "outputId": "e713b141-46f0-422a-efce-4df530f59b43"
      },
      "execution_count": null,
      "outputs": [
        {
          "output_type": "stream",
          "name": "stdout",
          "text": [
            "Downloading data from https://www.cs.toronto.edu/~kriz/cifar-10-python.tar.gz\n",
            "170500096/170498071 [==============================] - 2s 0us/step\n",
            "170508288/170498071 [==============================] - 2s 0us/step\n"
          ]
        }
      ]
    },
    {
      "cell_type": "code",
      "source": [
        "training_data[0] = training_data[0].reshape(training_data[0].shape[0], training_data[0].shape[1]*training_data[0].shape[2]*training_data[0].shape[3])"
      ],
      "metadata": {
        "id": "HZOgnA57hFRy"
      },
      "execution_count": null,
      "outputs": []
    },
    {
      "cell_type": "code",
      "source": [
        "training_data[1] = training_data[1].reshape(training_data[1].shape[0], )"
      ],
      "metadata": {
        "id": "bLM9-xo_hFU7"
      },
      "execution_count": null,
      "outputs": []
    },
    {
      "cell_type": "code",
      "source": [
        "training_data[1].shape"
      ],
      "metadata": {
        "colab": {
          "base_uri": "https://localhost:8080/"
        },
        "id": "tpAFriOX4WHD",
        "outputId": "dab22cf8-9f61-46e3-d3f0-b03bf22e6041"
      },
      "execution_count": null,
      "outputs": [
        {
          "output_type": "execute_result",
          "data": {
            "text/plain": [
              "(50000,)"
            ]
          },
          "metadata": {},
          "execution_count": 7
        }
      ]
    },
    {
      "cell_type": "code",
      "source": [
        "# Input and target label shapes\n",
        "print(training_data[0].shape)\n",
        "print(training_data[1].shape)\n",
        "print(test_data[0].shape)\n",
        "print(test_data[1].shape)"
      ],
      "metadata": {
        "colab": {
          "base_uri": "https://localhost:8080/"
        },
        "id": "CWwaNshU4WJ8",
        "outputId": "8236698d-5739-4505-d33a-ff7cd219ecc8"
      },
      "execution_count": null,
      "outputs": [
        {
          "output_type": "stream",
          "name": "stdout",
          "text": [
            "(50000, 3072)\n",
            "(50000,)\n",
            "(10000, 32, 32, 3)\n",
            "(10000, 1)\n"
          ]
        }
      ]
    },
    {
      "cell_type": "code",
      "source": [
        "print(\"The feature dataset is:\" + str(training_data[0]))\n",
        "print(\"The target dataset is:\" + str(training_data[1]))\n",
        "print(\"The number of examples in the training dataset is:\" + str(len(training_data[0])))\n",
        "print(\"The number of points in a single input is:\" + str(len(training_data[0][1])))"
      ],
      "metadata": {
        "colab": {
          "base_uri": "https://localhost:8080/"
        },
        "id": "kmAaAclG4WM4",
        "outputId": "807ed313-d261-4e0a-abdf-c5bc8b5e21a9"
      },
      "execution_count": null,
      "outputs": [
        {
          "output_type": "stream",
          "name": "stdout",
          "text": [
            "The feature dataset is:[[ 59  62  63 ... 123  92  72]\n",
            " [154 177 187 ... 143 133 144]\n",
            " [255 255 255 ...  80  86  84]\n",
            " ...\n",
            " [ 35 178 235 ...  12  31  50]\n",
            " [189 211 240 ... 195 190 171]\n",
            " [229 229 239 ... 163 163 161]]\n",
            "The target dataset is:[6 9 9 ... 9 1 1]\n",
            "The number of examples in the training dataset is:50000\n",
            "The number of points in a single input is:3072\n"
          ]
        }
      ]
    },
    {
      "cell_type": "markdown",
      "source": [
        "### **One-Hot Representation**"
      ],
      "metadata": {
        "id": "C12PJ8Td4leN"
      }
    },
    {
      "cell_type": "code",
      "source": [
        "def one_hot(j):\n",
        "  '''\n",
        "  Input: List of m labels\n",
        "  Output: Returns (10, m) matrix with one-hot representation\n",
        "  '''\n",
        "  n = j.shape[0]\n",
        "  new_array = np.zeros((10, n))\n",
        "  index = 0\n",
        "  for res in j:\n",
        "      new_array[res][index] = 1.0\n",
        "      index = index + 1\n",
        "  return new_array"
      ],
      "metadata": {
        "id": "zyGOvvye4WPy"
      },
      "execution_count": null,
      "outputs": []
    },
    {
      "cell_type": "code",
      "source": [
        "def data_wrapper():\n",
        "    '''\n",
        "    Converts the dataset into desired shape and also converts the ground truth to one-hot representation\n",
        "    '''\n",
        "    trainX, trainY, testX, testY = cifar10_load_data()\n",
        "\n",
        "    training_data = []\n",
        "    test_data = []\n",
        "\n",
        "    training_data.append(trainX)\n",
        "    training_data.append(trainY)\n",
        "\n",
        "    test_data.append(testX)\n",
        "    test_data.append(testY)\n",
        "\n",
        "    training_data[0] = training_data[0].reshape(training_data[0].shape[0], training_data[0].shape[1]*training_data[0].shape[2]*training_data[0].shape[3])\n",
        "    training_data[1] = training_data[1].reshape(training_data[1].shape[0], )\n",
        "\n",
        "    test_data[0] = test_data[0].reshape(test_data[0].shape[0], test_data[0].shape[1]*test_data[0].shape[2]*test_data[0].shape[3])\n",
        "    test_data[1] = test_data[1].reshape(test_data[1].shape[0], )\n",
        "\n",
        "    training_inputs = np.array(training_data[0][:]).T\n",
        "    training_results = np.array(training_data[1][:])\n",
        "    train_set_y = one_hot(training_results)\n",
        "    \n",
        "    test_inputs = np.array(test_data[0][:]).T\n",
        "    test_results = np.array(test_data[1][:])\n",
        "    test_set_y = one_hot(test_results)\n",
        "    \n",
        "    return (training_inputs, train_set_y, test_inputs, test_set_y)"
      ],
      "metadata": {
        "id": "XSMmVG0T4WSn"
      },
      "execution_count": null,
      "outputs": []
    },
    {
      "cell_type": "code",
      "source": [
        "train_set_x, train_set_y, test_set_x, test_set_y = data_wrapper()"
      ],
      "metadata": {
        "id": "37OOVcGVBpcA"
      },
      "execution_count": null,
      "outputs": []
    },
    {
      "cell_type": "code",
      "source": [
        "print (\"train_set_x shape: \" + str(train_set_x.shape))\n",
        "print (\"train_set_y shape: \" + str(train_set_y.shape))\n",
        "print (\"test_set_x shape: \" + str(test_set_x.shape))\n",
        "print (\"test_set_y shape: \" + str(test_set_y.shape))"
      ],
      "metadata": {
        "colab": {
          "base_uri": "https://localhost:8080/"
        },
        "id": "iS8fJv8PBpfA",
        "outputId": "3755e786-dba9-4d3c-b6f9-334a21340147"
      },
      "execution_count": null,
      "outputs": [
        {
          "output_type": "stream",
          "name": "stdout",
          "text": [
            "train_set_x shape: (3072, 50000)\n",
            "train_set_y shape: (10, 50000)\n",
            "test_set_x shape: (3072, 10000)\n",
            "test_set_y shape: (10, 10000)\n"
          ]
        }
      ]
    },
    {
      "cell_type": "code",
      "source": [
        "# Converting labels into dataframe.\n",
        "y = pd.DataFrame(train_set_y)"
      ],
      "metadata": {
        "id": "jMaI0zzFBph7"
      },
      "execution_count": null,
      "outputs": []
    },
    {
      "cell_type": "code",
      "source": [
        "print(\"The target dataset is:\" + str(training_data[1]))\n",
        "print(\"The one hot encoding dataset is:\")\n",
        "y"
      ],
      "metadata": {
        "colab": {
          "base_uri": "https://localhost:8080/",
          "height": 491
        },
        "id": "3G_Ye_70BzGR",
        "outputId": "d1d04dc5-c0d1-47a0-bfb7-d6ac9a9bc2b6"
      },
      "execution_count": null,
      "outputs": [
        {
          "output_type": "stream",
          "name": "stdout",
          "text": [
            "The target dataset is:[6 9 9 ... 9 1 1]\n",
            "The one hot encoding dataset is:\n"
          ]
        },
        {
          "output_type": "execute_result",
          "data": {
            "text/plain": [
              "   0      1      2      3      4      5      6      7      8      9      ...  \\\n",
              "0    0.0    0.0    0.0    0.0    0.0    0.0    0.0    0.0    0.0    0.0  ...   \n",
              "1    0.0    0.0    0.0    0.0    1.0    1.0    0.0    0.0    0.0    0.0  ...   \n",
              "2    0.0    0.0    0.0    0.0    0.0    0.0    1.0    0.0    0.0    0.0  ...   \n",
              "3    0.0    0.0    0.0    0.0    0.0    0.0    0.0    0.0    0.0    1.0  ...   \n",
              "4    0.0    0.0    0.0    1.0    0.0    0.0    0.0    0.0    0.0    0.0  ...   \n",
              "5    0.0    0.0    0.0    0.0    0.0    0.0    0.0    0.0    0.0    0.0  ...   \n",
              "6    1.0    0.0    0.0    0.0    0.0    0.0    0.0    0.0    0.0    0.0  ...   \n",
              "7    0.0    0.0    0.0    0.0    0.0    0.0    0.0    1.0    0.0    0.0  ...   \n",
              "8    0.0    0.0    0.0    0.0    0.0    0.0    0.0    0.0    1.0    0.0  ...   \n",
              "9    0.0    1.0    1.0    0.0    0.0    0.0    0.0    0.0    0.0    0.0  ...   \n",
              "\n",
              "   49990  49991  49992  49993  49994  49995  49996  49997  49998  49999  \n",
              "0    0.0    0.0    1.0    0.0    1.0    0.0    0.0    0.0    0.0    0.0  \n",
              "1    0.0    0.0    0.0    1.0    0.0    0.0    0.0    0.0    1.0    1.0  \n",
              "2    0.0    1.0    0.0    0.0    0.0    1.0    0.0    0.0    0.0    0.0  \n",
              "3    0.0    0.0    0.0    0.0    0.0    0.0    0.0    0.0    0.0    0.0  \n",
              "4    1.0    0.0    0.0    0.0    0.0    0.0    0.0    0.0    0.0    0.0  \n",
              "5    0.0    0.0    0.0    0.0    0.0    0.0    0.0    0.0    0.0    0.0  \n",
              "6    0.0    0.0    0.0    0.0    0.0    0.0    1.0    0.0    0.0    0.0  \n",
              "7    0.0    0.0    0.0    0.0    0.0    0.0    0.0    0.0    0.0    0.0  \n",
              "8    0.0    0.0    0.0    0.0    0.0    0.0    0.0    0.0    0.0    0.0  \n",
              "9    0.0    0.0    0.0    0.0    0.0    0.0    0.0    1.0    0.0    0.0  \n",
              "\n",
              "[10 rows x 50000 columns]"
            ],
            "text/html": [
              "\n",
              "  <div id=\"df-2d74c1c0-12c3-4409-916a-4b4e0c5af0ba\">\n",
              "    <div class=\"colab-df-container\">\n",
              "      <div>\n",
              "<style scoped>\n",
              "    .dataframe tbody tr th:only-of-type {\n",
              "        vertical-align: middle;\n",
              "    }\n",
              "\n",
              "    .dataframe tbody tr th {\n",
              "        vertical-align: top;\n",
              "    }\n",
              "\n",
              "    .dataframe thead th {\n",
              "        text-align: right;\n",
              "    }\n",
              "</style>\n",
              "<table border=\"1\" class=\"dataframe\">\n",
              "  <thead>\n",
              "    <tr style=\"text-align: right;\">\n",
              "      <th></th>\n",
              "      <th>0</th>\n",
              "      <th>1</th>\n",
              "      <th>2</th>\n",
              "      <th>3</th>\n",
              "      <th>4</th>\n",
              "      <th>5</th>\n",
              "      <th>6</th>\n",
              "      <th>7</th>\n",
              "      <th>8</th>\n",
              "      <th>9</th>\n",
              "      <th>...</th>\n",
              "      <th>49990</th>\n",
              "      <th>49991</th>\n",
              "      <th>49992</th>\n",
              "      <th>49993</th>\n",
              "      <th>49994</th>\n",
              "      <th>49995</th>\n",
              "      <th>49996</th>\n",
              "      <th>49997</th>\n",
              "      <th>49998</th>\n",
              "      <th>49999</th>\n",
              "    </tr>\n",
              "  </thead>\n",
              "  <tbody>\n",
              "    <tr>\n",
              "      <th>0</th>\n",
              "      <td>0.0</td>\n",
              "      <td>0.0</td>\n",
              "      <td>0.0</td>\n",
              "      <td>0.0</td>\n",
              "      <td>0.0</td>\n",
              "      <td>0.0</td>\n",
              "      <td>0.0</td>\n",
              "      <td>0.0</td>\n",
              "      <td>0.0</td>\n",
              "      <td>0.0</td>\n",
              "      <td>...</td>\n",
              "      <td>0.0</td>\n",
              "      <td>0.0</td>\n",
              "      <td>1.0</td>\n",
              "      <td>0.0</td>\n",
              "      <td>1.0</td>\n",
              "      <td>0.0</td>\n",
              "      <td>0.0</td>\n",
              "      <td>0.0</td>\n",
              "      <td>0.0</td>\n",
              "      <td>0.0</td>\n",
              "    </tr>\n",
              "    <tr>\n",
              "      <th>1</th>\n",
              "      <td>0.0</td>\n",
              "      <td>0.0</td>\n",
              "      <td>0.0</td>\n",
              "      <td>0.0</td>\n",
              "      <td>1.0</td>\n",
              "      <td>1.0</td>\n",
              "      <td>0.0</td>\n",
              "      <td>0.0</td>\n",
              "      <td>0.0</td>\n",
              "      <td>0.0</td>\n",
              "      <td>...</td>\n",
              "      <td>0.0</td>\n",
              "      <td>0.0</td>\n",
              "      <td>0.0</td>\n",
              "      <td>1.0</td>\n",
              "      <td>0.0</td>\n",
              "      <td>0.0</td>\n",
              "      <td>0.0</td>\n",
              "      <td>0.0</td>\n",
              "      <td>1.0</td>\n",
              "      <td>1.0</td>\n",
              "    </tr>\n",
              "    <tr>\n",
              "      <th>2</th>\n",
              "      <td>0.0</td>\n",
              "      <td>0.0</td>\n",
              "      <td>0.0</td>\n",
              "      <td>0.0</td>\n",
              "      <td>0.0</td>\n",
              "      <td>0.0</td>\n",
              "      <td>1.0</td>\n",
              "      <td>0.0</td>\n",
              "      <td>0.0</td>\n",
              "      <td>0.0</td>\n",
              "      <td>...</td>\n",
              "      <td>0.0</td>\n",
              "      <td>1.0</td>\n",
              "      <td>0.0</td>\n",
              "      <td>0.0</td>\n",
              "      <td>0.0</td>\n",
              "      <td>1.0</td>\n",
              "      <td>0.0</td>\n",
              "      <td>0.0</td>\n",
              "      <td>0.0</td>\n",
              "      <td>0.0</td>\n",
              "    </tr>\n",
              "    <tr>\n",
              "      <th>3</th>\n",
              "      <td>0.0</td>\n",
              "      <td>0.0</td>\n",
              "      <td>0.0</td>\n",
              "      <td>0.0</td>\n",
              "      <td>0.0</td>\n",
              "      <td>0.0</td>\n",
              "      <td>0.0</td>\n",
              "      <td>0.0</td>\n",
              "      <td>0.0</td>\n",
              "      <td>1.0</td>\n",
              "      <td>...</td>\n",
              "      <td>0.0</td>\n",
              "      <td>0.0</td>\n",
              "      <td>0.0</td>\n",
              "      <td>0.0</td>\n",
              "      <td>0.0</td>\n",
              "      <td>0.0</td>\n",
              "      <td>0.0</td>\n",
              "      <td>0.0</td>\n",
              "      <td>0.0</td>\n",
              "      <td>0.0</td>\n",
              "    </tr>\n",
              "    <tr>\n",
              "      <th>4</th>\n",
              "      <td>0.0</td>\n",
              "      <td>0.0</td>\n",
              "      <td>0.0</td>\n",
              "      <td>1.0</td>\n",
              "      <td>0.0</td>\n",
              "      <td>0.0</td>\n",
              "      <td>0.0</td>\n",
              "      <td>0.0</td>\n",
              "      <td>0.0</td>\n",
              "      <td>0.0</td>\n",
              "      <td>...</td>\n",
              "      <td>1.0</td>\n",
              "      <td>0.0</td>\n",
              "      <td>0.0</td>\n",
              "      <td>0.0</td>\n",
              "      <td>0.0</td>\n",
              "      <td>0.0</td>\n",
              "      <td>0.0</td>\n",
              "      <td>0.0</td>\n",
              "      <td>0.0</td>\n",
              "      <td>0.0</td>\n",
              "    </tr>\n",
              "    <tr>\n",
              "      <th>5</th>\n",
              "      <td>0.0</td>\n",
              "      <td>0.0</td>\n",
              "      <td>0.0</td>\n",
              "      <td>0.0</td>\n",
              "      <td>0.0</td>\n",
              "      <td>0.0</td>\n",
              "      <td>0.0</td>\n",
              "      <td>0.0</td>\n",
              "      <td>0.0</td>\n",
              "      <td>0.0</td>\n",
              "      <td>...</td>\n",
              "      <td>0.0</td>\n",
              "      <td>0.0</td>\n",
              "      <td>0.0</td>\n",
              "      <td>0.0</td>\n",
              "      <td>0.0</td>\n",
              "      <td>0.0</td>\n",
              "      <td>0.0</td>\n",
              "      <td>0.0</td>\n",
              "      <td>0.0</td>\n",
              "      <td>0.0</td>\n",
              "    </tr>\n",
              "    <tr>\n",
              "      <th>6</th>\n",
              "      <td>1.0</td>\n",
              "      <td>0.0</td>\n",
              "      <td>0.0</td>\n",
              "      <td>0.0</td>\n",
              "      <td>0.0</td>\n",
              "      <td>0.0</td>\n",
              "      <td>0.0</td>\n",
              "      <td>0.0</td>\n",
              "      <td>0.0</td>\n",
              "      <td>0.0</td>\n",
              "      <td>...</td>\n",
              "      <td>0.0</td>\n",
              "      <td>0.0</td>\n",
              "      <td>0.0</td>\n",
              "      <td>0.0</td>\n",
              "      <td>0.0</td>\n",
              "      <td>0.0</td>\n",
              "      <td>1.0</td>\n",
              "      <td>0.0</td>\n",
              "      <td>0.0</td>\n",
              "      <td>0.0</td>\n",
              "    </tr>\n",
              "    <tr>\n",
              "      <th>7</th>\n",
              "      <td>0.0</td>\n",
              "      <td>0.0</td>\n",
              "      <td>0.0</td>\n",
              "      <td>0.0</td>\n",
              "      <td>0.0</td>\n",
              "      <td>0.0</td>\n",
              "      <td>0.0</td>\n",
              "      <td>1.0</td>\n",
              "      <td>0.0</td>\n",
              "      <td>0.0</td>\n",
              "      <td>...</td>\n",
              "      <td>0.0</td>\n",
              "      <td>0.0</td>\n",
              "      <td>0.0</td>\n",
              "      <td>0.0</td>\n",
              "      <td>0.0</td>\n",
              "      <td>0.0</td>\n",
              "      <td>0.0</td>\n",
              "      <td>0.0</td>\n",
              "      <td>0.0</td>\n",
              "      <td>0.0</td>\n",
              "    </tr>\n",
              "    <tr>\n",
              "      <th>8</th>\n",
              "      <td>0.0</td>\n",
              "      <td>0.0</td>\n",
              "      <td>0.0</td>\n",
              "      <td>0.0</td>\n",
              "      <td>0.0</td>\n",
              "      <td>0.0</td>\n",
              "      <td>0.0</td>\n",
              "      <td>0.0</td>\n",
              "      <td>1.0</td>\n",
              "      <td>0.0</td>\n",
              "      <td>...</td>\n",
              "      <td>0.0</td>\n",
              "      <td>0.0</td>\n",
              "      <td>0.0</td>\n",
              "      <td>0.0</td>\n",
              "      <td>0.0</td>\n",
              "      <td>0.0</td>\n",
              "      <td>0.0</td>\n",
              "      <td>0.0</td>\n",
              "      <td>0.0</td>\n",
              "      <td>0.0</td>\n",
              "    </tr>\n",
              "    <tr>\n",
              "      <th>9</th>\n",
              "      <td>0.0</td>\n",
              "      <td>1.0</td>\n",
              "      <td>1.0</td>\n",
              "      <td>0.0</td>\n",
              "      <td>0.0</td>\n",
              "      <td>0.0</td>\n",
              "      <td>0.0</td>\n",
              "      <td>0.0</td>\n",
              "      <td>0.0</td>\n",
              "      <td>0.0</td>\n",
              "      <td>...</td>\n",
              "      <td>0.0</td>\n",
              "      <td>0.0</td>\n",
              "      <td>0.0</td>\n",
              "      <td>0.0</td>\n",
              "      <td>0.0</td>\n",
              "      <td>0.0</td>\n",
              "      <td>0.0</td>\n",
              "      <td>1.0</td>\n",
              "      <td>0.0</td>\n",
              "      <td>0.0</td>\n",
              "    </tr>\n",
              "  </tbody>\n",
              "</table>\n",
              "<p>10 rows × 50000 columns</p>\n",
              "</div>\n",
              "      <button class=\"colab-df-convert\" onclick=\"convertToInteractive('df-2d74c1c0-12c3-4409-916a-4b4e0c5af0ba')\"\n",
              "              title=\"Convert this dataframe to an interactive table.\"\n",
              "              style=\"display:none;\">\n",
              "        \n",
              "  <svg xmlns=\"http://www.w3.org/2000/svg\" height=\"24px\"viewBox=\"0 0 24 24\"\n",
              "       width=\"24px\">\n",
              "    <path d=\"M0 0h24v24H0V0z\" fill=\"none\"/>\n",
              "    <path d=\"M18.56 5.44l.94 2.06.94-2.06 2.06-.94-2.06-.94-.94-2.06-.94 2.06-2.06.94zm-11 1L8.5 8.5l.94-2.06 2.06-.94-2.06-.94L8.5 2.5l-.94 2.06-2.06.94zm10 10l.94 2.06.94-2.06 2.06-.94-2.06-.94-.94-2.06-.94 2.06-2.06.94z\"/><path d=\"M17.41 7.96l-1.37-1.37c-.4-.4-.92-.59-1.43-.59-.52 0-1.04.2-1.43.59L10.3 9.45l-7.72 7.72c-.78.78-.78 2.05 0 2.83L4 21.41c.39.39.9.59 1.41.59.51 0 1.02-.2 1.41-.59l7.78-7.78 2.81-2.81c.8-.78.8-2.07 0-2.86zM5.41 20L4 18.59l7.72-7.72 1.47 1.35L5.41 20z\"/>\n",
              "  </svg>\n",
              "      </button>\n",
              "      \n",
              "  <style>\n",
              "    .colab-df-container {\n",
              "      display:flex;\n",
              "      flex-wrap:wrap;\n",
              "      gap: 12px;\n",
              "    }\n",
              "\n",
              "    .colab-df-convert {\n",
              "      background-color: #E8F0FE;\n",
              "      border: none;\n",
              "      border-radius: 50%;\n",
              "      cursor: pointer;\n",
              "      display: none;\n",
              "      fill: #1967D2;\n",
              "      height: 32px;\n",
              "      padding: 0 0 0 0;\n",
              "      width: 32px;\n",
              "    }\n",
              "\n",
              "    .colab-df-convert:hover {\n",
              "      background-color: #E2EBFA;\n",
              "      box-shadow: 0px 1px 2px rgba(60, 64, 67, 0.3), 0px 1px 3px 1px rgba(60, 64, 67, 0.15);\n",
              "      fill: #174EA6;\n",
              "    }\n",
              "\n",
              "    [theme=dark] .colab-df-convert {\n",
              "      background-color: #3B4455;\n",
              "      fill: #D2E3FC;\n",
              "    }\n",
              "\n",
              "    [theme=dark] .colab-df-convert:hover {\n",
              "      background-color: #434B5C;\n",
              "      box-shadow: 0px 1px 3px 1px rgba(0, 0, 0, 0.15);\n",
              "      filter: drop-shadow(0px 1px 2px rgba(0, 0, 0, 0.3));\n",
              "      fill: #FFFFFF;\n",
              "    }\n",
              "  </style>\n",
              "\n",
              "      <script>\n",
              "        const buttonEl =\n",
              "          document.querySelector('#df-2d74c1c0-12c3-4409-916a-4b4e0c5af0ba button.colab-df-convert');\n",
              "        buttonEl.style.display =\n",
              "          google.colab.kernel.accessAllowed ? 'block' : 'none';\n",
              "\n",
              "        async function convertToInteractive(key) {\n",
              "          const element = document.querySelector('#df-2d74c1c0-12c3-4409-916a-4b4e0c5af0ba');\n",
              "          const dataTable =\n",
              "            await google.colab.kernel.invokeFunction('convertToInteractive',\n",
              "                                                     [key], {});\n",
              "          if (!dataTable) return;\n",
              "\n",
              "          const docLinkHtml = 'Like what you see? Visit the ' +\n",
              "            '<a target=\"_blank\" href=https://colab.research.google.com/notebooks/data_table.ipynb>data table notebook</a>'\n",
              "            + ' to learn more about interactive tables.';\n",
              "          element.innerHTML = '';\n",
              "          dataTable['output_type'] = 'display_data';\n",
              "          await google.colab.output.renderOutput(dataTable, element);\n",
              "          const docLink = document.createElement('div');\n",
              "          docLink.innerHTML = docLinkHtml;\n",
              "          element.appendChild(docLink);\n",
              "        }\n",
              "      </script>\n",
              "    </div>\n",
              "  </div>\n",
              "  "
            ]
          },
          "metadata": {},
          "execution_count": 15
        }
      ]
    },
    {
      "cell_type": "code",
      "source": [
        "print(\"The feature dataset is:\" + str(training_data[0]))"
      ],
      "metadata": {
        "colab": {
          "base_uri": "https://localhost:8080/"
        },
        "id": "d8q3EOr5nS3w",
        "outputId": "eb44f960-9e0c-47ca-ac3b-802c922335cb"
      },
      "execution_count": null,
      "outputs": [
        {
          "output_type": "stream",
          "name": "stdout",
          "text": [
            "The feature dataset is:[[ 59  62  63 ... 123  92  72]\n",
            " [154 177 187 ... 143 133 144]\n",
            " [255 255 255 ...  80  86  84]\n",
            " ...\n",
            " [ 35 178 235 ...  12  31  50]\n",
            " [189 211 240 ... 195 190 171]\n",
            " [229 229 239 ... 163 163 161]]\n"
          ]
        }
      ]
    },
    {
      "cell_type": "code",
      "source": [
        "print(\"The feature dataset is:\" + str(train_set_x))"
      ],
      "metadata": {
        "colab": {
          "base_uri": "https://localhost:8080/"
        },
        "id": "rtuqLOqynnnv",
        "outputId": "ced526c7-fcd4-4c59-eda6-b63d8563704d"
      },
      "execution_count": null,
      "outputs": [
        {
          "output_type": "stream",
          "name": "stdout",
          "text": [
            "The feature dataset is:[[ 59 154 255 ...  35 189 229]\n",
            " [ 62 177 255 ... 178 211 229]\n",
            " [ 63 187 255 ... 235 240 239]\n",
            " ...\n",
            " [123 143  80 ...  12 195 163]\n",
            " [ 92 133  86 ...  31 190 163]\n",
            " [ 72 144  84 ...  50 171 161]]\n"
          ]
        }
      ]
    },
    {
      "cell_type": "markdown",
      "source": [
        "### **Visualizing Sample Training Input Image**"
      ],
      "metadata": {
        "id": "cIbT4dfmifrn"
      }
    },
    {
      "cell_type": "code",
      "source": [
        "index  = 1001\n",
        "k = train_set_x[:,index]\n",
        "k = k.reshape((32, 32, 3))\n",
        "plt.title('Label is {label}'.format(label= training_data[1][index]))\n",
        "plt.imshow(k, cmap='gray')"
      ],
      "metadata": {
        "colab": {
          "base_uri": "https://localhost:8080/",
          "height": 299
        },
        "id": "zyIQv47VBzI0",
        "outputId": "80125df3-6024-498f-e8d5-86154923a3c0"
      },
      "execution_count": null,
      "outputs": [
        {
          "output_type": "execute_result",
          "data": {
            "text/plain": [
              "<matplotlib.image.AxesImage at 0x7faf7c5b50d0>"
            ]
          },
          "metadata": {},
          "execution_count": 18
        },
        {
          "output_type": "display_data",
          "data": {
            "text/plain": [
              "<Figure size 432x288 with 1 Axes>"
            ],
            "image/png": "[encoded data removed]"
          },
          "metadata": {
            "needs_background": "light"
          }
        }
      ]
    },
    {
      "cell_type": "markdown",
      "source": [
        "### **Normalizing Input Features**"
      ],
      "metadata": {
        "id": "T3TmLnrBiR6v"
      }
    },
    {
      "cell_type": "code",
      "source": [
        "def normalize_input_features(x_data):\n",
        "  '''\n",
        "  Input: x_data - value range (0, 255)\n",
        "  Output: x_data - value range (0, 1)\n",
        "  '''\n",
        "  #Divide all the features with 255(pixel value range)\n",
        "  x_data = x_data/255.0\n",
        "  return x_data"
      ],
      "metadata": {
        "id": "vUlqlvj1iRSW"
      },
      "execution_count": null,
      "outputs": []
    },
    {
      "cell_type": "code",
      "source": [
        "train_set_x = normalize_input_features(train_set_x)\n",
        "test_set_x = normalize_input_features(test_set_x)"
      ],
      "metadata": {
        "id": "BziD0PjtiM_k"
      },
      "execution_count": null,
      "outputs": []
    },
    {
      "cell_type": "markdown",
      "source": [
        "### **Feedforward**"
      ],
      "metadata": {
        "id": "nwhc0NPuCNDc"
      }
    },
    {
      "cell_type": "markdown",
      "source": [
        "Activation Functions"
      ],
      "metadata": {
        "id": "66JFBL4NCbFv"
      }
    },
    {
      "cell_type": "code",
      "source": [
        "def sigmoid(Z):\n",
        "  '''\n",
        "  Input: Z is the cummulation input to the layer\n",
        "  Output: Returns  sigmoid activation H matrix, sigmoid_memory later used in the backpropogation.\n",
        "  '''\n",
        "   \n",
        "  H = 1/(1+np.exp(-Z))\n",
        "  sigmoid_memory = Z\n",
        "  \n",
        "  return H, sigmoid_memory"
      ],
      "metadata": {
        "id": "rNopgScSCMUx"
      },
      "execution_count": null,
      "outputs": []
    },
    {
      "cell_type": "code",
      "source": [
        "Z = np.arange(8).reshape(4,2)\n",
        "print (\"sigmoid(Z) = \" + str(sigmoid(Z)))"
      ],
      "metadata": {
        "colab": {
          "base_uri": "https://localhost:8080/"
        },
        "id": "14t4kydxHkF2",
        "outputId": "c5ce2fa3-fc86-4089-d5a0-d5e301bca97c"
      },
      "execution_count": null,
      "outputs": [
        {
          "output_type": "stream",
          "name": "stdout",
          "text": [
            "sigmoid(Z) = (array([[0.5       , 0.73105858],\n",
            "       [0.88079708, 0.95257413],\n",
            "       [0.98201379, 0.99330715],\n",
            "       [0.99752738, 0.99908895]]), array([[0, 1],\n",
            "       [2, 3],\n",
            "       [4, 5],\n",
            "       [6, 7]]))\n"
          ]
        }
      ]
    },
    {
      "cell_type": "code",
      "source": [
        "def relu(Z):\n",
        "  '''\n",
        "  Input: Z is the cummulation input to the layer\n",
        "  Output: Returns relu activation H matrix, relu_memory later used in the backpropogation.\n",
        "  '''\n",
        "\n",
        "  H = np.maximum(0,Z)\n",
        "  assert(H.shape == Z.shape)\n",
        "  \n",
        "  relu_memory = Z \n",
        "  return H, relu_memory"
      ],
      "metadata": {
        "id": "JxxEpArPBzMD"
      },
      "execution_count": null,
      "outputs": []
    },
    {
      "cell_type": "code",
      "source": [
        "Z = np.array([1, 3, -1, -4, -5, 7, 9, 18]).reshape(4,2)\n",
        "print (\"relu(Z) = \" + str(relu(Z)))"
      ],
      "metadata": {
        "colab": {
          "base_uri": "https://localhost:8080/"
        },
        "id": "n3Rzx8XSHkfj",
        "outputId": "22a666db-45c4-4df2-8ea6-062ca5e04eef"
      },
      "execution_count": null,
      "outputs": [
        {
          "output_type": "stream",
          "name": "stdout",
          "text": [
            "relu(Z) = (array([[ 1,  3],\n",
            "       [ 0,  0],\n",
            "       [ 0,  7],\n",
            "       [ 9, 18]]), array([[ 1,  3],\n",
            "       [-1, -4],\n",
            "       [-5,  7],\n",
            "       [ 9, 18]]))\n"
          ]
        }
      ]
    },
    {
      "cell_type": "code",
      "source": [
        "def softmax(Z):\n",
        "  '''\n",
        "  Input: Z is the cummulation input to the layer\n",
        "  Output: Returns softmax activation H matrix, softmax_memory later used in the backpropogation.\n",
        "  '''\n",
        "  Z_exp = np.exp(Z)\n",
        "\n",
        "  Z_sum = np.sum(Z_exp,axis = 0, keepdims = True)\n",
        "  \n",
        "  H = Z_exp/Z_sum  #normalising step\n",
        "  softmax_memory = Z\n",
        "  \n",
        "  return H, softmax_memory"
      ],
      "metadata": {
        "id": "DFb31iYPBzQB"
      },
      "execution_count": null,
      "outputs": []
    },
    {
      "cell_type": "code",
      "source": [
        "Z = np.array([[11,19,10], [12, 21, 23]])\n",
        "H, softmax_memory = softmax(Z)\n",
        "print(H)\n",
        "print(softmax_memory)"
      ],
      "metadata": {
        "colab": {
          "base_uri": "https://localhost:8080/"
        },
        "id": "GrnzMOlZHlBu",
        "outputId": "34f505e3-bec8-4f39-dcde-215ba5259998"
      },
      "execution_count": null,
      "outputs": [
        {
          "output_type": "stream",
          "name": "stdout",
          "text": [
            "[[2.68941421e-01 1.19202922e-01 2.26032430e-06]\n",
            " [7.31058579e-01 8.80797078e-01 9.99997740e-01]]\n",
            "[[11 19 10]\n",
            " [12 21 23]]\n"
          ]
        }
      ]
    },
    {
      "cell_type": "markdown",
      "source": [
        "### **Initializing Parameters**"
      ],
      "metadata": {
        "id": "WfHRa_0XG1TP"
      }
    },
    {
      "cell_type": "code",
      "source": [
        "def initialize_parameters(dimensions):\n",
        "  '''\n",
        "  Input: dimensions is a list containing the number of neuron in each layer in the network\n",
        "  Output: Returns parameters which is a python dictionary containing the parameters \"W1\", \"b1\", ..., \"WL\", \"bL\"\n",
        "  '''\n",
        "  np.random.seed(2)\n",
        "  parameters = {}\n",
        "  L = len(dimensions)            # number of layers in the network + 1\n",
        "\n",
        "  for l in range(1, L): \n",
        "      parameters['W' + str(l)] = np.random.randn(dimensions[l], dimensions[l-1]) * 0.1\n",
        "      parameters['b' + str(l)] = np.zeros((dimensions[l], 1)) \n",
        "      \n",
        "      assert(parameters['W' + str(l)].shape == (dimensions[l], dimensions[l-1]))\n",
        "      assert(parameters['b' + str(l)].shape == (dimensions[l], 1))\n",
        "\n",
        "  return parameters"
      ],
      "metadata": {
        "id": "8ZtECxcVBzUN"
      },
      "execution_count": null,
      "outputs": []
    },
    {
      "cell_type": "code",
      "source": [
        "dimensions  = [3072, 50,30,10]\n",
        "parameters = initialize_parameters(dimensions)\n",
        "print(\"W1 = \" + str(parameters[\"W1\"]))\n",
        "print(\"b1 = \" + str(parameters[\"b1\"]))\n",
        "print(\"W2 = \" + str(parameters[\"W2\"]))\n",
        "print(\"b2 = \" + str(parameters[\"b2\"]))\n",
        "# print(\"W3 = \" + str(parameters[\"W3\"]))\n",
        "# print(\"b3 = \" + str(parameters[\"b3\"]))"
      ],
      "metadata": {
        "colab": {
          "base_uri": "https://localhost:8080/"
        },
        "id": "oWeJPMJELPaF",
        "outputId": "c67c40fb-5f48-42b9-f4c7-7b8606de08b6"
      },
      "execution_count": null,
      "outputs": [
        {
          "output_type": "stream",
          "name": "stdout",
          "text": [
            "W1 = [[-0.04167578 -0.00562668 -0.21361961 ...  0.1524183   0.08030679\n",
            "  -0.20630668]\n",
            " [-0.09200544 -0.13593063  0.08496996 ... -0.12692491  0.07624151\n",
            "  -0.04693156]\n",
            " [-0.06137873 -0.05361845  0.02268961 ...  0.10159502 -0.00699543\n",
            "  -0.06247429]\n",
            " ...\n",
            " [ 0.00910123  0.02439772 -0.13233185 ...  0.07503009 -0.13448223\n",
            "  -0.07157332]\n",
            " [ 0.09261     0.17766335  0.03598191 ... -0.15794373  0.02094899\n",
            "   0.13354639]\n",
            " [ 0.16270249  0.04882228  0.09768919 ...  0.11005103  0.07527573\n",
            "  -0.03201027]]\n",
            "b1 = [[0.]\n",
            " [0.]\n",
            " [0.]\n",
            " [0.]\n",
            " [0.]\n",
            " [0.]\n",
            " [0.]\n",
            " [0.]\n",
            " [0.]\n",
            " [0.]\n",
            " [0.]\n",
            " [0.]\n",
            " [0.]\n",
            " [0.]\n",
            " [0.]\n",
            " [0.]\n",
            " [0.]\n",
            " [0.]\n",
            " [0.]\n",
            " [0.]\n",
            " [0.]\n",
            " [0.]\n",
            " [0.]\n",
            " [0.]\n",
            " [0.]\n",
            " [0.]\n",
            " [0.]\n",
            " [0.]\n",
            " [0.]\n",
            " [0.]\n",
            " [0.]\n",
            " [0.]\n",
            " [0.]\n",
            " [0.]\n",
            " [0.]\n",
            " [0.]\n",
            " [0.]\n",
            " [0.]\n",
            " [0.]\n",
            " [0.]\n",
            " [0.]\n",
            " [0.]\n",
            " [0.]\n",
            " [0.]\n",
            " [0.]\n",
            " [0.]\n",
            " [0.]\n",
            " [0.]\n",
            " [0.]\n",
            " [0.]]\n",
            "W2 = [[ 0.07274892 -0.12431079  0.09388836 ...  0.04232581 -0.03809435\n",
            "   0.04695959]\n",
            " [ 0.01355018 -0.00410413  0.05861805 ... -0.0926292   0.03019752\n",
            "   0.17926195]\n",
            " [ 0.06057359 -0.10183213  0.0349793  ... -0.01907301 -0.04194475\n",
            "  -0.03126343]\n",
            " ...\n",
            " [-0.12049108 -0.04279057 -0.06390614 ...  0.08676161  0.00970101\n",
            "   0.08503978]\n",
            " [ 0.01365067  0.0382157  -0.04103964 ...  0.11488361 -0.03816836\n",
            "  -0.09411816]\n",
            " [-0.03064999 -0.23264295 -0.09153582 ...  0.18147381  0.04753706\n",
            "  -0.0181576 ]]\n",
            "b2 = [[0.]\n",
            " [0.]\n",
            " [0.]\n",
            " [0.]\n",
            " [0.]\n",
            " [0.]\n",
            " [0.]\n",
            " [0.]\n",
            " [0.]\n",
            " [0.]\n",
            " [0.]\n",
            " [0.]\n",
            " [0.]\n",
            " [0.]\n",
            " [0.]\n",
            " [0.]\n",
            " [0.]\n",
            " [0.]\n",
            " [0.]\n",
            " [0.]\n",
            " [0.]\n",
            " [0.]\n",
            " [0.]\n",
            " [0.]\n",
            " [0.]\n",
            " [0.]\n",
            " [0.]\n",
            " [0.]\n",
            " [0.]\n",
            " [0.]]\n"
          ]
        }
      ]
    },
    {
      "cell_type": "markdown",
      "source": [
        "## **Forward Pass**"
      ],
      "metadata": {
        "id": "bhb-imHOHYKn"
      }
    },
    {
      "cell_type": "code",
      "source": [
        "# This performs one forward propogation for a certain layer 'l'\n",
        "def layer_forward(H_prev, W, b, activation = 'relu'): \n",
        "  '''\n",
        "  Input: H_prev this is the input cummulative to the current layer, W is weights matrix of shape\n",
        "  b is bias vector of shape, activation to be used for forward propagation : \"softmax\", \"relu\", \"sigmoid\"\n",
        "  Output: Returns H is the output of the activation function, memory is a python dictionary containing linear or activation memory.\n",
        "  '''\n",
        "  \n",
        "  Z = np.dot(W, H_prev) + b\n",
        "  if activation == \"sigmoid\":\n",
        "      linear_memory = (H_prev, W, b)\n",
        "      H, activation_memory = sigmoid(Z)\n",
        "\n",
        "  elif activation == \"softmax\":\n",
        "      linear_memory = (H_prev, W, b)\n",
        "      H, activation_memory = softmax(Z)\n",
        "  \n",
        "  elif activation == \"relu\":\n",
        "      linear_memory = (H_prev, W, b)\n",
        "      H, activation_memory = relu(Z)\n",
        "      \n",
        "  assert (H.shape == (W.shape[0], H_prev.shape[1]))\n",
        "  memory = (linear_memory, activation_memory)\n",
        "\n",
        "  return H, memory"
      ],
      "metadata": {
        "id": "BbSs_goKBzXQ"
      },
      "execution_count": null,
      "outputs": []
    },
    {
      "cell_type": "code",
      "source": [
        "H_prev = np.array([[1,0, 5, 10, 2], [2, 5, 3, 10, 2]])\n",
        "W_sample = np.array([[10, 5], [2, 0], [1, 0]])\n",
        "b_sample = np.array([10, 5, 0]).reshape((3, 1))\n",
        "\n",
        "H = layer_forward(H_prev, W_sample, b_sample, activation=\"sigmoid\")[0]\n",
        "H"
      ],
      "metadata": {
        "colab": {
          "base_uri": "https://localhost:8080/"
        },
        "id": "1x68q1AoBzaW",
        "outputId": "cc940c0c-714b-40fc-b006-8b797906ce96"
      },
      "execution_count": null,
      "outputs": [
        {
          "output_type": "execute_result",
          "data": {
            "text/plain": [
              "array([[1.        , 1.        , 1.        , 1.        , 1.        ],\n",
              "       [0.99908895, 0.99330715, 0.99999969, 1.        , 0.99987661],\n",
              "       [0.73105858, 0.5       , 0.99330715, 0.9999546 , 0.88079708]])"
            ]
          },
          "metadata": {},
          "execution_count": 30
        }
      ]
    },
    {
      "cell_type": "code",
      "source": [
        "#This performs one forward pass through the whole network for all training samples.\n",
        "\n",
        "def L_layer_forward(X, parameters):\n",
        "  '''\n",
        "  Input: X is input data, parameters is output of initialize_parameters()\n",
        "  Output: HL is the last layer's post-activation value, memories is the list of memory containing \n",
        "  -every memory of relu forward (there are L-1 of them, indexed from 1 to L-1), \n",
        "  - the memory of softmax forward (there is one, indexed L)\n",
        "  '''\n",
        "\n",
        "  memories = []\n",
        "  H = X\n",
        "  L = len(parameters) // 2   # number of layers in the neural network\n",
        "  \n",
        "  for l in range(1, L):\n",
        "      H_prev = H\n",
        "      W=parameters[\"W\"+str(l)]\n",
        "      b=parameters[\"b\"+str(l)]\n",
        "      H, memory = layer_forward(H_prev, W, b, activation = 'relu')\n",
        "      \n",
        "      memories.append(memory)\n",
        "  # HL here is the final prediction in the final layer.\n",
        "  W=parameters[\"W\"+str(L)]\n",
        "  b=parameters[\"b\"+str(L)]\n",
        "  HL, memory = layer_forward(H, W, b, activation = 'softmax')\n",
        "  \n",
        "  memories.append(memory)\n",
        "\n",
        "  assert(HL.shape == (10, X.shape[1]))\n",
        "          \n",
        "  return HL, memories"
      ],
      "metadata": {
        "id": "_SNkOeisHjOo"
      },
      "execution_count": null,
      "outputs": []
    },
    {
      "cell_type": "code",
      "source": [
        "# verify\n",
        "# X is (784, 10)\n",
        "# HL should be (10, 10)\n",
        "x_sample = train_set_x[:, 10:20]\n",
        "print(x_sample.shape)\n",
        "HL = L_layer_forward(x_sample, parameters=parameters)[0]\n",
        "print(HL[:, :5])"
      ],
      "metadata": {
        "colab": {
          "base_uri": "https://localhost:8080/"
        },
        "id": "F9Vo4uRhYfNz",
        "outputId": "0f434ae6-3e0b-4b12-a90f-7d3f0703eee4"
      },
      "execution_count": null,
      "outputs": [
        {
          "output_type": "stream",
          "name": "stdout",
          "text": [
            "(3072, 10)\n",
            "[[0.09603292 0.10332619 0.10072717 0.07984978 0.10220821]\n",
            " [0.11620353 0.10448309 0.10901814 0.12356772 0.10530881]\n",
            " [0.07614087 0.09424911 0.08542518 0.09570283 0.1034351 ]\n",
            " [0.08101748 0.07600863 0.08355484 0.09247589 0.09361884]\n",
            " [0.1128413  0.12218834 0.15372606 0.08737461 0.13366497]\n",
            " [0.05319072 0.03153383 0.04709441 0.05959022 0.04991382]\n",
            " [0.15533599 0.19629798 0.13566798 0.1358282  0.12485884]\n",
            " [0.1213836  0.08843032 0.10278885 0.13194721 0.1073737 ]\n",
            " [0.07710091 0.05984595 0.0572367  0.07929129 0.07555153]\n",
            " [0.11075267 0.12363657 0.12476067 0.11437224 0.10406617]]\n"
          ]
        }
      ]
    },
    {
      "cell_type": "markdown",
      "source": [
        "### **Loss**"
      ],
      "metadata": {
        "id": "0eWUZjRLYj0l"
      }
    },
    {
      "cell_type": "code",
      "source": [
        "# Cross entropy loss\n",
        "def compute_loss(HL, Y):\n",
        "  '''\n",
        "  Input: HL is the output probability from the network, Y is the true labels\n",
        "  Output: Cross-entropy loss\n",
        "  '''\n",
        "  m = Y.shape[1]\n",
        "  loss = -(1./m)*np.sum(np.multiply(Y,np.log(HL)))\n",
        "  \n",
        "  loss = np.squeeze(loss) # To make sure that the loss's shape is what we expect (e.g. this turns [[17]] into 17).\n",
        "  assert(loss.shape == ())\n",
        "  \n",
        "  return loss"
      ],
      "metadata": {
        "id": "zmphsLWiYfQ5"
      },
      "execution_count": null,
      "outputs": []
    },
    {
      "cell_type": "code",
      "source": [
        "# sample\n",
        "\n",
        "np.random.seed(2)\n",
        "HL_sample = np.random.rand(10,5)\n",
        "Y_sample = train_set_y[:, 10:15]\n",
        "print(HL_sample)\n",
        "print(Y_sample)\n",
        "\n",
        "print(compute_loss(HL_sample, Y_sample))"
      ],
      "metadata": {
        "colab": {
          "base_uri": "https://localhost:8080/"
        },
        "id": "-1Z-mE6nYfU3",
        "outputId": "a9676c2d-9b22-4128-df61-b2a0f8fe4893"
      },
      "execution_count": null,
      "outputs": [
        {
          "output_type": "stream",
          "name": "stdout",
          "text": [
            "[[0.4359949  0.02592623 0.54966248 0.43532239 0.4203678 ]\n",
            " [0.33033482 0.20464863 0.61927097 0.29965467 0.26682728]\n",
            " [0.62113383 0.52914209 0.13457995 0.51357812 0.18443987]\n",
            " [0.78533515 0.85397529 0.49423684 0.84656149 0.07964548]\n",
            " [0.50524609 0.0652865  0.42812233 0.09653092 0.12715997]\n",
            " [0.59674531 0.226012   0.10694568 0.22030621 0.34982629]\n",
            " [0.46778748 0.20174323 0.64040673 0.48306984 0.50523672]\n",
            " [0.38689265 0.79363745 0.58000418 0.1622986  0.70075235]\n",
            " [0.96455108 0.50000836 0.88952006 0.34161365 0.56714413]\n",
            " [0.42754596 0.43674726 0.77655918 0.53560417 0.95374223]]\n",
            "[[0. 0. 0. 0. 0.]\n",
            " [0. 0. 0. 0. 0.]\n",
            " [0. 0. 0. 1. 0.]\n",
            " [0. 0. 0. 0. 0.]\n",
            " [1. 0. 0. 0. 0.]\n",
            " [0. 0. 0. 0. 0.]\n",
            " [0. 0. 0. 0. 0.]\n",
            " [0. 1. 1. 0. 0.]\n",
            " [0. 0. 0. 0. 0.]\n",
            " [0. 0. 0. 0. 1.]]\n",
            "0.4344546265898296\n"
          ]
        }
      ]
    },
    {
      "cell_type": "code",
      "source": [
        "# Cross entropy loss with L2 regularization\n",
        "def compute_loss_with_L2(HL, Y, parameters, lambdax):\n",
        "  '''\n",
        "  Input: HL is the output probability from the network, Y is the true labels\n",
        "  Output: Cross-entropy loss\n",
        "  '''\n",
        "\n",
        "  L = len(parameters) // 2   # Number of layers\n",
        "\n",
        "  m = Y.shape[1]\n",
        "  loss = -(1./m)*np.sum(np.multiply(Y,np.log(HL)))\n",
        "  total_sum  =0\n",
        "  for l in range(1, L):\n",
        "    total_sum += np.sum(np.square(parameters[\"W\"+str(l)]))\n",
        "  L2_regularization_cost = (lambdax/(2*m))*total_sum\n",
        "  # L2_regularization_cost = (lambdax/(2*m))*(np.sum(np.square(W1) + np.sum(np.square(W2) + np.sum(np.square(W2)))\n",
        "  # print(\"L2 loss before \", L2_regularization_cost)\n",
        "  loss = loss + L2_regularization_cost\n",
        "  loss = np.squeeze(loss) # To make sure that the loss's shape is what we expect (e.g. this turns [[17]] into 17).\n",
        "  assert(loss.shape == ())\n",
        "  \n",
        "  return loss"
      ],
      "metadata": {
        "id": "XQCXS59cT5Dn"
      },
      "execution_count": null,
      "outputs": []
    },
    {
      "cell_type": "code",
      "source": [
        "# sample\n",
        "\n",
        "np.random.seed(2)\n",
        "HL_sample = np.random.rand(10,5)\n",
        "Y_sample = train_set_y[:, 10:15]\n",
        "print(HL_sample)\n",
        "print(Y_sample)\n",
        "\n",
        "print(compute_loss_with_L2(HL_sample, Y_sample, parameters, 0.7))"
      ],
      "metadata": {
        "colab": {
          "base_uri": "https://localhost:8080/"
        },
        "id": "V9bf3B_wXRvt",
        "outputId": "bd1d7593-bb02-4fbb-9b85-c1ca1e2002c3"
      },
      "execution_count": null,
      "outputs": [
        {
          "output_type": "stream",
          "name": "stdout",
          "text": [
            "[[0.4359949  0.02592623 0.54966248 0.43532239 0.4203678 ]\n",
            " [0.33033482 0.20464863 0.61927097 0.29965467 0.26682728]\n",
            " [0.62113383 0.52914209 0.13457995 0.51357812 0.18443987]\n",
            " [0.78533515 0.85397529 0.49423684 0.84656149 0.07964548]\n",
            " [0.50524609 0.0652865  0.42812233 0.09653092 0.12715997]\n",
            " [0.59674531 0.226012   0.10694568 0.22030621 0.34982629]\n",
            " [0.46778748 0.20174323 0.64040673 0.48306984 0.50523672]\n",
            " [0.38689265 0.79363745 0.58000418 0.1622986  0.70075235]\n",
            " [0.96455108 0.50000836 0.88952006 0.34161365 0.56714413]\n",
            " [0.42754596 0.43674726 0.77655918 0.53560417 0.95374223]]\n",
            "[[0. 0. 0. 0. 0.]\n",
            " [0. 0. 0. 0. 0.]\n",
            " [0. 0. 0. 1. 0.]\n",
            " [0. 0. 0. 0. 0.]\n",
            " [1. 0. 0. 0. 0.]\n",
            " [0. 0. 0. 0. 0.]\n",
            " [0. 0. 0. 0. 0.]\n",
            " [0. 1. 1. 0. 0.]\n",
            " [0. 0. 0. 0. 0.]\n",
            " [0. 0. 0. 0. 1.]]\n",
            "108.78471741951715\n"
          ]
        }
      ]
    },
    {
      "cell_type": "markdown",
      "source": [
        "### **BackPropogation**"
      ],
      "metadata": {
        "id": "WTGEldWbZj-J"
      }
    },
    {
      "cell_type": "markdown",
      "source": [
        " **sigmoid-backward & relu-backward**"
      ],
      "metadata": {
        "id": "IMV7ICtEaCeV"
      }
    },
    {
      "cell_type": "code",
      "source": [
        "# Backpropogation fo the sigmoid function\n",
        "def sigmoid_backward(dH, sigmoid_memory):\n",
        "  '''\n",
        "  Input: dH is gradient of the sigmoid activated activation of shape same as H or Z in the same layer,\n",
        "  sigmoid_memory is the memory stored in the sigmoid(Z) calculation.\n",
        "  Output: Returns derivate of Loss w.r.t Z\n",
        "  '''\n",
        "  # sigmoid_memory is the memory stored in the sigmoid(Z) calculation\n",
        "  \n",
        "  Z = sigmoid_memory\n",
        "  \n",
        "  H = 1/(1+np.exp(-Z))\n",
        "  dZ = dH * H * (1-H)\n",
        "  \n",
        "  assert (dZ.shape == Z.shape)\n",
        "  \n",
        "  return dZ"
      ],
      "metadata": {
        "id": "adriZS-lZgq_"
      },
      "execution_count": null,
      "outputs": []
    },
    {
      "cell_type": "code",
      "source": [
        "# Backpropogation fo the sigmoid function\n",
        "def relu_backward(dH, relu_memory):\n",
        "  '''\n",
        "  Input: dH is gradient of the relu activated activation of shape same as H or Z in the same layer,\n",
        "  relu_memory is the memory stored in the relu(Z) calculation.\n",
        "  Output: Returns derivate of Loss w.r.t Z\n",
        "  '''\n",
        "\n",
        "  Z = relu_memory\n",
        "  dZ = np.array(dH, copy=True) # dZ will be the same as dA wherever the elements of A weren't 0\n",
        "  \n",
        "  dZ[Z <= 0] = 0\n",
        "  \n",
        "  assert (dZ.shape == Z.shape)\n",
        "  \n",
        "  return dZ"
      ],
      "metadata": {
        "id": "iYrECScpZgvY"
      },
      "execution_count": null,
      "outputs": []
    },
    {
      "cell_type": "code",
      "source": [
        "def layer_backward(dH, memory, activation = 'relu'):\n",
        "  '''\n",
        "  Input: takes dH and the memory calculated in layer_forward and activation\n",
        "  Output: Returns to calculate the dH_prev, dW, db\n",
        "  '''\n",
        "\n",
        "\n",
        "  linear_memory, activation_memory = memory\n",
        "  \n",
        "  if activation == \"relu\":\n",
        "      dZ = relu_backward(dH,activation_memory)\n",
        "      H_prev, W, b = linear_memory\n",
        "      m = H_prev.shape[1]\n",
        "      dW = (1./m) * np.dot(dZ,H_prev.transpose())\n",
        "      db = (1./m) * np.sum(dZ,axis=1)\n",
        "      db = np.reshape(db,(-1, 1))\n",
        "      dH_prev = np.dot(W.transpose(),dZ)\n",
        "      \n",
        "  elif activation == \"sigmoid\":\n",
        "      dZ = sigmoid_backward(dH, activation_memory)\n",
        "      H_prev, W, b = linear_memory\n",
        "      m = H_prev.shape[1]\n",
        "      dW = (1./m) * np.dot(dZ,H_prev.transpose())\n",
        "      db = (1./m) * np.sum(dZ,axis=1)\n",
        "      db = np.reshape(db,(-1, 1))\n",
        "      dH_prev = np.dot(W.transpose(),dZ)\n",
        "  \n",
        "  return dH_prev, dW, db"
      ],
      "metadata": {
        "id": "n5_7-1sFZgx_"
      },
      "execution_count": null,
      "outputs": []
    },
    {
      "cell_type": "code",
      "source": [
        "H_prev = np.array([[1,0, 5, 10, 2], [2, 5, 3, 10, 2]])\n",
        "W_sample = np.array([[10, 5], [2, 0], [1, 0]])\n",
        "b_sample = np.array([10, 5, 0]).reshape((3, 1))\n",
        "\n",
        "H, memory = layer_forward(H_prev, W_sample, b_sample, activation=\"relu\")\n",
        "np.random.seed(2)\n",
        "dH = np.random.rand(3,5)\n",
        "dH_prev, dW, db = layer_backward(dH, memory, activation = 'relu')\n",
        "print('dH_prev is \\n' , dH_prev)\n",
        "print('dW is \\n' ,dW)\n",
        "print('db is \\n', db)"
      ],
      "metadata": {
        "colab": {
          "base_uri": "https://localhost:8080/"
        },
        "id": "19uUnRgReOz3",
        "outputId": "ffde92b8-d3bf-4dfe-b543-3abdc02e4cc8"
      },
      "execution_count": null,
      "outputs": [
        {
          "output_type": "stream",
          "name": "stdout",
          "text": [
            "dH_prev is \n",
            " [[5.6417525  0.66855959 6.86974666 5.46611139 4.92177244]\n",
            " [2.17997451 0.12963116 2.74831239 2.17661196 2.10183901]]\n",
            "dW is \n",
            " [[1.67565336 1.56891359]\n",
            " [1.39137819 1.4143854 ]\n",
            " [1.3597389  1.43013369]]\n",
            "db is \n",
            " [[0.37345476]\n",
            " [0.34414727]\n",
            " [0.29074635]]\n"
          ]
        }
      ]
    },
    {
      "cell_type": "code",
      "source": [
        "def L_layer_backward(HL, Y, memories):\n",
        "  '''\n",
        "  Input: predicted value HL and the true target value Y and memories calculated by L_layer_forward\n",
        "  Output: Returns gradient.\n",
        "  '''\n",
        "\n",
        "  gradients = {}\n",
        "  L = len(memories) # the number of layers\n",
        "  m = HL.shape[1]\n",
        "  Y = Y.reshape(HL.shape) # after this line, Y is the same shape as AL\n",
        "  \n",
        "  # Perform the backprop for the last layer that is the softmax layer\n",
        "  current_memory = memories[-1]\n",
        "  linear_memory, activation_memory = current_memory\n",
        "  dZ = HL - Y\n",
        "  H_prev, W, b = linear_memory\n",
        "  \n",
        "  gradients[\"dH\" + str(L-1)] = np.dot(W.transpose(),dZ)\n",
        "  gradients[\"dW\" + str(L)] = (1./m) * np.dot(dZ,H_prev.transpose())\n",
        "  db = (1./m) * np.sum(dZ,axis=1)\n",
        "  db = np.reshape(db,(-1, 1))\n",
        "  gradients[\"db\" + str(L)] = db\n",
        "  \n",
        "  # Perform the backpropagation l-1 times\n",
        "  for l in reversed(range(L-1)):\n",
        "      # Lth layer gradients: \"gradients[\"dH\" + str(l + 1)] \", gradients[\"dW\" + str(l + 2)] , gradients[\"db\" + str(l + 2)]\n",
        "      current_memory = memories[l]\n",
        "      \n",
        "      dH_prev_temp, dW_temp, db_temp = layer_backward(gradients[\"dH\" + str(l + 1)], current_memory, activation = 'relu')\n",
        "      gradients[\"dH\" + str(l)] = dH_prev_temp\n",
        "      gradients[\"dW\" + str(l + 1)] = dW_temp\n",
        "      gradients[\"db\" + str(l + 1)] = db_temp\n",
        "\n",
        "\n",
        "  return gradients"
      ],
      "metadata": {
        "id": "OR5gNsOnYfWd"
      },
      "execution_count": null,
      "outputs": []
    },
    {
      "cell_type": "code",
      "source": [
        "def L_layer_backward_with_L2(HL, Y, memories, lambdax):\n",
        "  '''\n",
        "  Input: predicted value HL and the true target value Y and memories calculated by L_layer_forward\n",
        "  Output: Returns gradient.\n",
        "  '''\n",
        "\n",
        "  gradients = {}\n",
        "  L = len(memories) # the number of layers\n",
        "  m = HL.shape[1]\n",
        "  Y = Y.reshape(HL.shape) # after this line, Y is the same shape as AL\n",
        "  \n",
        "  # Perform the backprop for the last layer that is the softmax layer\n",
        "  current_memory = memories[-1]\n",
        "  linear_memory, activation_memory = current_memory\n",
        "  dZ = HL - Y\n",
        "  H_prev, W, b = linear_memory\n",
        "  \n",
        "  gradients[\"dH\" + str(L-1)] = np.dot(W.transpose(),dZ)\n",
        "  gradients[\"dW\" + str(L)] = (1./m) * np.dot(dZ,H_prev.transpose())\n",
        "  gradients[\"dW\" + str(L)] += (lambdax * gradients[\"dW\" + str(L)])/m\n",
        "  db = (1./m) * np.sum(dZ,axis=1)\n",
        "  db = np.reshape(db,(-1, 1))\n",
        "  gradients[\"db\" + str(L)] = db\n",
        "  \n",
        "  # Perform the backpropagation l-1 times\n",
        "  for l in reversed(range(L-1)):\n",
        "      # Lth layer gradients: \"gradients[\"dH\" + str(l + 1)] \", gradients[\"dW\" + str(l + 2)] , gradients[\"db\" + str(l + 2)]\n",
        "      current_memory = memories[l]\n",
        "      \n",
        "      dH_prev_temp, dW_temp, db_temp = layer_backward(gradients[\"dH\" + str(l + 1)], current_memory, activation = 'relu')\n",
        "      gradients[\"dH\" + str(l)] = dH_prev_temp\n",
        "      gradients[\"dW\" + str(l + 1)] = dW_temp\n",
        "      # print(\"checking shape:\",(lambdax * gradients[\"dW\" + str(l+1)])/m)\n",
        "      gradients[\"dW\" + str(l + 1)] += (lambdax * gradients[\"dW\" + str(l+1)])/m\n",
        "      gradients[\"db\" + str(l + 1)] = db_temp\n",
        "\n",
        "\n",
        "  return gradients"
      ],
      "metadata": {
        "id": "hhtMhDSzZrWy"
      },
      "execution_count": null,
      "outputs": []
    },
    {
      "cell_type": "code",
      "source": [
        "x_sample = train_set_x[:, 10:20]\n",
        "y_sample = train_set_y[:, 10:20]\n",
        "\n",
        "HL, memories = L_layer_forward(x_sample, parameters=parameters)\n",
        "gradients  = L_layer_backward_with_L2(HL, y_sample, memories, 0.7)\n",
        "print('dW3 is \\n', gradients['dW3'])\n",
        "print('db3 is \\n', gradients['db3'])\n",
        "print('dW2 is \\n', gradients['dW2'])\n",
        "print('db2 is \\n', gradients['db2'])"
      ],
      "metadata": {
        "colab": {
          "base_uri": "https://localhost:8080/"
        },
        "id": "P5mVHSFreWEH",
        "outputId": "78739172-6f4f-4d2b-df1b-241647d84168"
      },
      "execution_count": null,
      "outputs": [
        {
          "output_type": "stream",
          "name": "stdout",
          "text": [
            "dW3 is \n",
            " [[ 3.26838694e-03  3.53796135e-02  1.11964913e-02  7.12537905e-02\n",
            "   0.00000000e+00  1.22712422e-01  9.58640125e-02  1.91825655e-02\n",
            "   5.37222446e-02  0.00000000e+00  0.00000000e+00  0.00000000e+00\n",
            "   1.38263246e-01  1.62425164e-01  0.00000000e+00  3.49007494e-02\n",
            "   9.93655201e-02  0.00000000e+00  2.52585993e-03  1.16855289e-02\n",
            "   0.00000000e+00  9.81397131e-04  0.00000000e+00  0.00000000e+00\n",
            "   1.83833483e-01  1.73286744e-02  3.38971900e-03  8.78729588e-02\n",
            "   0.00000000e+00  0.00000000e+00]\n",
            " [ 5.79444294e-03  5.13772018e-02  1.42051425e-02  9.31570364e-02\n",
            "   0.00000000e+00  1.72466908e-01  1.24808962e-01  2.93073100e-02\n",
            "   7.46561262e-02  0.00000000e+00  0.00000000e+00  0.00000000e+00\n",
            "   2.02799548e-01  2.10212206e-01  0.00000000e+00  4.36488006e-02\n",
            "   1.34539774e-01  0.00000000e+00  3.90877421e-03  1.27782801e-02\n",
            "   0.00000000e+00  1.45606325e-03  0.00000000e+00  0.00000000e+00\n",
            "   2.33148176e-01  2.80986430e-02  5.24559817e-03  1.12892729e-01\n",
            "   0.00000000e+00  0.00000000e+00]\n",
            " [ 3.62324709e-03 -7.15513875e-02  9.34063508e-03 -1.12840798e-01\n",
            "   0.00000000e+00 -4.60611605e-02 -9.02301396e-02 -4.40632523e-02\n",
            "  -5.52228214e-02  0.00000000e+00  0.00000000e+00  0.00000000e+00\n",
            "  -2.65493782e-01 -4.06202654e-02  0.00000000e+00 -8.56567338e-02\n",
            "  -8.28217149e-02  0.00000000e+00 -2.86053130e-02  8.77943379e-03\n",
            "   0.00000000e+00 -8.05042650e-03  0.00000000e+00  0.00000000e+00\n",
            "  -3.33518350e-02 -5.93679757e-02 -3.83884997e-02 -7.34319250e-02\n",
            "   0.00000000e+00  0.00000000e+00]\n",
            " [-3.88753295e-02 -6.87659794e-02  8.72014945e-03  4.90421043e-02\n",
            "   0.00000000e+00 -6.50358092e-02  3.09898387e-02 -4.00323859e-02\n",
            "   3.40808660e-02  0.00000000e+00  0.00000000e+00  0.00000000e+00\n",
            "   1.88338023e-02  7.96240086e-02  0.00000000e+00  3.04462618e-02\n",
            "   6.98982394e-02  0.00000000e+00  2.92525727e-03  9.48895933e-03\n",
            "   0.00000000e+00  5.33928048e-04  0.00000000e+00  0.00000000e+00\n",
            "   1.35377524e-01 -6.18632713e-02  3.92571261e-03  6.48412734e-02\n",
            "   0.00000000e+00  0.00000000e+00]\n",
            " [ 4.18488794e-03  1.31598985e-02  1.61565651e-02  8.53834425e-02\n",
            "   0.00000000e+00  1.09356653e-02  7.47417324e-02 -3.69307092e-02\n",
            "   4.18348514e-02  0.00000000e+00  0.00000000e+00  0.00000000e+00\n",
            "   5.96413461e-02  7.09981467e-02  0.00000000e+00 -6.08312585e-03\n",
            "   9.51192065e-02  0.00000000e+00  2.76389011e-03  1.77528156e-02\n",
            "   0.00000000e+00  9.04042876e-04  0.00000000e+00  0.00000000e+00\n",
            "   9.43553739e-02  1.99760453e-02  3.70915692e-03  1.06914108e-01\n",
            "   0.00000000e+00  0.00000000e+00]\n",
            " [ 3.08235997e-03  2.13232072e-02  4.51037130e-03  2.61436626e-02\n",
            "   0.00000000e+00  5.85287475e-02  4.13555569e-02  1.23619578e-02\n",
            "   2.45055456e-02  0.00000000e+00  0.00000000e+00  0.00000000e+00\n",
            "   6.11571492e-02  6.80435486e-02  0.00000000e+00  1.65575658e-02\n",
            "   3.83858814e-02  0.00000000e+00  1.88499632e-03  4.81904347e-03\n",
            "   0.00000000e+00  3.29798645e-04  0.00000000e+00  0.00000000e+00\n",
            "   7.20323545e-02  1.11657517e-02  2.52967624e-03  3.44564022e-02\n",
            "   0.00000000e+00  0.00000000e+00]\n",
            " [ 4.99443809e-03  3.05853964e-02  2.27543015e-02  3.28144501e-02\n",
            "   0.00000000e+00 -2.23589247e-03  8.96805198e-02 -1.26283560e-03\n",
            "  -2.56397769e-02  0.00000000e+00  0.00000000e+00  0.00000000e+00\n",
            "  -9.89756139e-02  3.70003478e-02  0.00000000e+00  4.22701613e-02\n",
            "  -4.49066888e-02  0.00000000e+00  4.29660544e-03  2.10569264e-02\n",
            "   0.00000000e+00  1.02120137e-03  0.00000000e+00  0.00000000e+00\n",
            "   7.37311879e-02  2.43229959e-02  5.76606998e-03  1.66398868e-02\n",
            "   0.00000000e+00  0.00000000e+00]\n",
            " [ 5.52723394e-03 -7.39022559e-03  5.28889420e-03 -2.07978269e-01\n",
            "   0.00000000e+00 -1.33661906e-01 -2.35838347e-01  1.80011643e-02\n",
            "  -9.94354202e-02  0.00000000e+00  0.00000000e+00  0.00000000e+00\n",
            "  -7.35487072e-02 -2.59897844e-01  0.00000000e+00 -6.03555219e-02\n",
            "  -1.61458057e-01  0.00000000e+00  4.17383965e-03 -5.26346122e-02\n",
            "   0.00000000e+00  6.73035581e-04  0.00000000e+00  0.00000000e+00\n",
            "  -4.11785032e-01  2.14049175e-02  5.60131756e-03 -1.71603180e-01\n",
            "   0.00000000e+00  0.00000000e+00]\n",
            " [ 3.57511572e-03  3.03742474e-02  7.08115800e-03  5.02090235e-02\n",
            "   0.00000000e+00  9.40441123e-02  6.88867480e-02  1.76035167e-02\n",
            "   4.06162610e-02  0.00000000e+00  0.00000000e+00  0.00000000e+00\n",
            "   1.10445303e-01  1.14846637e-01  0.00000000e+00  2.59731278e-02\n",
            "   7.17840263e-02  0.00000000e+00  2.50819331e-03  6.58496055e-03\n",
            "   0.00000000e+00  8.18313422e-04  0.00000000e+00  0.00000000e+00\n",
            "   1.27109509e-01  1.62462136e-02  3.36601030e-03  6.16491923e-02\n",
            "   0.00000000e+00  0.00000000e+00]\n",
            " [ 4.82521690e-03 -3.44919723e-02 -9.92537084e-02 -8.71844424e-02\n",
            "   0.00000000e+00 -2.11693087e-01 -2.00258884e-01  2.58326688e-02\n",
            "  -8.91178763e-02  0.00000000e+00  0.00000000e+00  0.00000000e+00\n",
            "  -1.53122292e-01 -4.42631948e-01  0.00000000e+00 -4.17012852e-02\n",
            "  -2.19906187e-01  0.00000000e+00  3.61789675e-03 -4.03113359e-02\n",
            "   0.00000000e+00  1.33264617e-03  0.00000000e+00  0.00000000e+00\n",
            "  -4.74450741e-01 -1.73119943e-02  4.85523890e-03 -2.40231445e-01\n",
            "   0.00000000e+00  0.00000000e+00]]\n",
            "db3 is \n",
            " [[ 0.09272661]\n",
            " [ 0.12602329]\n",
            " [-0.10189551]\n",
            " [-0.02565951]\n",
            " [ 0.01570806]\n",
            " [ 0.04482153]\n",
            " [ 0.04356051]\n",
            " [-0.0908445 ]\n",
            " [ 0.07148138]\n",
            " [-0.17592186]]\n",
            "dW2 is \n",
            " [[ 0.          0.          0.01101238 ...  0.          0.00879162\n",
            "   0.00940172]\n",
            " [ 0.          0.          0.01908619 ... -0.02019649 -0.06922209\n",
            "   0.01919678]\n",
            " [ 0.          0.         -0.0249663  ... -0.0670498  -0.35492126\n",
            "  -0.03250464]\n",
            " ...\n",
            " [ 0.          0.          0.01285711 ...  0.01519828  0.01810379\n",
            "   0.01686959]\n",
            " [ 0.          0.          0.         ...  0.          0.\n",
            "   0.        ]\n",
            " [ 0.          0.          0.         ...  0.          0.\n",
            "   0.        ]]\n",
            "db2 is \n",
            " [[ 0.00476748]\n",
            " [-0.01424512]\n",
            " [-0.06038403]\n",
            " [-0.0173476 ]\n",
            " [ 0.        ]\n",
            " [ 0.02204353]\n",
            " [ 0.00348903]\n",
            " [-0.0394189 ]\n",
            " [-0.01463849]\n",
            " [ 0.        ]\n",
            " [ 0.        ]\n",
            " [ 0.        ]\n",
            " [-0.01512019]\n",
            " [-0.00198069]\n",
            " [ 0.        ]\n",
            " [-0.00804843]\n",
            " [-0.01537062]\n",
            " [ 0.        ]\n",
            " [ 0.01157471]\n",
            " [-0.02626636]\n",
            " [ 0.        ]\n",
            " [-0.00091999]\n",
            " [ 0.        ]\n",
            " [ 0.        ]\n",
            " [-0.00083161]\n",
            " [-0.02026755]\n",
            " [ 0.00778529]\n",
            " [ 0.00094976]\n",
            " [ 0.        ]\n",
            " [ 0.        ]]\n"
          ]
        }
      ]
    },
    {
      "cell_type": "markdown",
      "source": [
        "### **Update Parameters**"
      ],
      "metadata": {
        "id": "d-H57NsYeeIV"
      }
    },
    {
      "cell_type": "code",
      "source": [
        "def update_parameters(parameters, gradients, learning_rate):\n",
        "  '''\n",
        "  Input: Takes in all the parameters, gradients and learning rate\n",
        "  Output: Returns the updated parameters.\n",
        "  '''\n",
        "  L = len(parameters) // 2 # number of layers in the neural network\n",
        "  for l in range(L):\n",
        "      parameters[\"W\" + str(l+1)] = parameters[\"W\" + str(l+1)] - learning_rate * gradients[\"dW\" + str(l+1)]\n",
        "      parameters[\"b\" + str(l+1)] = parameters[\"b\" + str(l+1)] - learning_rate * gradients[\"db\" + str(l+1)]\n",
        "  \n",
        "  return parameters"
      ],
      "metadata": {
        "id": "2GgMc5edeWLV"
      },
      "execution_count": null,
      "outputs": []
    },
    {
      "cell_type": "code",
      "source": [
        "dimensions = [3072, 50, 30, 10] #  three-layer model"
      ],
      "metadata": {
        "id": "utACZW0vfFUG"
      },
      "execution_count": null,
      "outputs": []
    },
    {
      "cell_type": "markdown",
      "source": [
        "### **Model**"
      ],
      "metadata": {
        "id": "QyhWycqXfHbc"
      }
    },
    {
      "cell_type": "code",
      "source": [
        "def L_layer_model(X, Y, dimensions, learning_rate = 0.0075, num_iterations = 3000, print_loss=False):\n",
        "  '''\n",
        "  Input: X and Y are the input training datasets, learning_rate, num_iterations are for gradient descent optimization.\n",
        "  Output: Returns the optimized parameters.\n",
        "  '''\n",
        "  np.random.seed(2)\n",
        "  losses = []# keep track of loss\n",
        "  \n",
        "  # Parameters initialization\n",
        "  parameters = initialize_parameters(dimensions)\n",
        "\n",
        "  for i in range(0, num_iterations):\n",
        "\n",
        "      # Forward propagation\n",
        "      HL, memories = L_layer_forward(X, parameters)\n",
        "      \n",
        "      # Compute loss\n",
        "      loss = compute_loss(HL, Y)\n",
        "  \n",
        "      # Backward propagation\n",
        "      gradients = L_layer_backward(HL, Y, memories)\n",
        "\n",
        "      # Update parameters.\n",
        "      parameters = update_parameters(parameters, gradients, learning_rate)\n",
        "      \n",
        "      # Printing the loss every 100 training example\n",
        "      if print_loss and i % 100 == 0:\n",
        "          print (\"Loss after iteration %i: %f\" %(i, loss))\n",
        "          losses.append(loss)\n",
        "          \n",
        "  # plotting the loss\n",
        "  plt.plot(np.squeeze(losses))\n",
        "  plt.ylabel('loss')\n",
        "  plt.xlabel('iterations (per tens)')\n",
        "  plt.title(\"Learning rate =\" + str(learning_rate))\n",
        "  plt.show()\n",
        "  \n",
        "  return parameters"
      ],
      "metadata": {
        "id": "3tJNXskjfL3-"
      },
      "execution_count": null,
      "outputs": []
    },
    {
      "cell_type": "code",
      "source": [
        "train_set_x_new = train_set_x[:,0:5000]\n",
        "train_set_y_new = train_set_y[:,0:5000]\n",
        "train_set_x_new.shape"
      ],
      "metadata": {
        "colab": {
          "base_uri": "https://localhost:8080/"
        },
        "id": "XF8nHnfTfMEH",
        "outputId": "8c3200b3-1f3f-4180-d87a-ed69d32939bb"
      },
      "execution_count": null,
      "outputs": [
        {
          "output_type": "execute_result",
          "data": {
            "text/plain": [
              "(3072, 5000)"
            ]
          },
          "metadata": {},
          "execution_count": 47
        }
      ]
    },
    {
      "cell_type": "code",
      "source": [
        "parameters = L_layer_model(train_set_x_new, train_set_y_new, dimensions, num_iterations = 2000, print_loss = True)"
      ],
      "metadata": {
        "colab": {
          "base_uri": "https://localhost:8080/",
          "height": 650
        },
        "id": "vBH1GTPzgtq6",
        "outputId": "572e7268-079b-4531-9935-9a6c3d8183a3"
      },
      "execution_count": null,
      "outputs": [
        {
          "output_type": "stream",
          "name": "stdout",
          "text": [
            "Loss after iteration 0: 2.398166\n",
            "Loss after iteration 100: 2.255503\n",
            "Loss after iteration 200: 2.196709\n",
            "Loss after iteration 300: 2.136084\n",
            "Loss after iteration 400: 2.083826\n",
            "Loss after iteration 500: 2.042615\n",
            "Loss after iteration 600: 2.007436\n",
            "Loss after iteration 700: 1.976141\n",
            "Loss after iteration 800: 1.948974\n",
            "Loss after iteration 900: 1.925935\n",
            "Loss after iteration 1000: 1.905996\n",
            "Loss after iteration 1100: 1.888565\n",
            "Loss after iteration 1200: 1.873121\n",
            "Loss after iteration 1300: 1.859117\n",
            "Loss after iteration 1400: 1.846437\n",
            "Loss after iteration 1500: 1.834590\n",
            "Loss after iteration 1600: 1.823553\n",
            "Loss after iteration 1700: 1.813219\n",
            "Loss after iteration 1800: 1.803532\n",
            "Loss after iteration 1900: 1.794188\n"
          ]
        },
        {
          "output_type": "display_data",
          "data": {
            "text/plain": [
              "<Figure size 432x288 with 1 Axes>"
            ],
            "image/png": "[encoded data removed]"
          },
          "metadata": {
            "needs_background": "light"
          }
        }
      ]
    },
    {
      "cell_type": "code",
      "source": [
        "def L_layer_model_L2_regularization(X, Y, dimensions, learning_rate = 0.0075, num_iterations = 3000, print_loss=False, lambdax = 0):\n",
        "  '''\n",
        "  Input: X and Y are the input training datasets, learning_rate, num_iterations are for gradient descent optimization.\n",
        "  Output: Returns the optimized parameters.\n",
        "  '''\n",
        "  np.random.seed(2)\n",
        "  losses = []# keep track of loss\n",
        "  \n",
        "  # Parameters initialization\n",
        "  parameters = initialize_parameters(dimensions)\n",
        "\n",
        "  for i in range(0, num_iterations):\n",
        "\n",
        "      # Forward propagation\n",
        "      HL, memories = L_layer_forward(X, parameters)\n",
        "      \n",
        "      # Compute loss\n",
        "      loss = compute_loss_with_L2(HL, Y, parameters, lambdax)\n",
        "  \n",
        "      # Backward propagation\n",
        "      gradients = L_layer_backward_with_L2(HL, Y, memories, lambdax)\n",
        "\n",
        "      # Update parameters.\n",
        "      parameters = update_parameters(parameters, gradients, learning_rate)\n",
        "      \n",
        "      # Printing the loss every 100 training example\n",
        "      if print_loss and i % 100 == 0:\n",
        "          print (\"Loss after iteration %i: %f\" %(i, loss))\n",
        "          losses.append(loss)\n",
        "          \n",
        "  # plotting the loss\n",
        "  plt.plot(np.squeeze(losses))\n",
        "  plt.ylabel('loss')\n",
        "  plt.xlabel('iterations (per tens)')\n",
        "  plt.title(\"Learning rate =\" + str(learning_rate))\n",
        "  plt.show()\n",
        "  \n",
        "  return parameters"
      ],
      "metadata": {
        "id": "D4Z6HKnrS2de"
      },
      "execution_count": null,
      "outputs": []
    },
    {
      "cell_type": "code",
      "source": [
        "L2_parameters = L_layer_model_L2_regularization(train_set_x_new, train_set_y_new, dimensions, num_iterations = 2000, print_loss = True, lambdax = 0.7)"
      ],
      "metadata": {
        "colab": {
          "base_uri": "https://localhost:8080/",
          "height": 650
        },
        "id": "OZSVKbwWSsvj",
        "outputId": "e55a5f4f-e18b-4f14-9773-d2986077794d"
      },
      "execution_count": null,
      "outputs": [
        {
          "output_type": "stream",
          "name": "stdout",
          "text": [
            "Loss after iteration 0: 2.506516\n",
            "Loss after iteration 100: 2.363841\n",
            "Loss after iteration 200: 2.305048\n",
            "Loss after iteration 300: 2.244432\n",
            "Loss after iteration 400: 2.192190\n",
            "Loss after iteration 500: 2.150999\n",
            "Loss after iteration 600: 2.115837\n",
            "Loss after iteration 700: 2.084560\n",
            "Loss after iteration 800: 2.057414\n",
            "Loss after iteration 900: 2.034397\n",
            "Loss after iteration 1000: 2.014478\n",
            "Loss after iteration 1100: 1.997070\n",
            "Loss after iteration 1200: 1.981641\n",
            "Loss after iteration 1300: 1.967642\n",
            "Loss after iteration 1400: 1.954983\n",
            "Loss after iteration 1500: 1.943142\n",
            "Loss after iteration 1600: 1.932125\n",
            "Loss after iteration 1700: 1.921804\n",
            "Loss after iteration 1800: 1.912131\n",
            "Loss after iteration 1900: 1.902799\n"
          ]
        },
        {
          "output_type": "display_data",
          "data": {
            "text/plain": [
              "<Figure size 432x288 with 1 Axes>"
            ],
            "image/png": "[encoded data removed]"
          },
          "metadata": {
            "needs_background": "light"
          }
        }
      ]
    },
    {
      "cell_type": "code",
      "source": [
        "def predict(X, y, parameters):\n",
        "  '''\n",
        "  Input: Input data X, y, optimized parameters\n",
        "  Output: returns the predicitons\n",
        "  '''\n",
        "  m = X.shape[1]\n",
        "  n = len(parameters) // 2 # number of layers in the neural network\n",
        "  \n",
        "  # Forward propagation\n",
        "  probas, caches = L_layer_forward(X, parameters)\n",
        "  \n",
        "  p = np.argmax(probas, axis = 0)\n",
        "  act = np.argmax(y, axis = 0)\n",
        "\n",
        "  print(\"Accuracy: \"  + str(np.sum((p == act)/m)))\n",
        "      \n",
        "  return p"
      ],
      "metadata": {
        "id": "jJ2y-zG3gtul"
      },
      "execution_count": null,
      "outputs": []
    },
    {
      "cell_type": "code",
      "source": [
        "# Train set predictions\n",
        "pred_train = predict(train_set_x_new, train_set_y_new, parameters)"
      ],
      "metadata": {
        "colab": {
          "base_uri": "https://localhost:8080/"
        },
        "id": "Ji4eRknQgtws",
        "outputId": "9005cc34-10ba-446c-a068-fd6d5b7c2d5c"
      },
      "execution_count": null,
      "outputs": [
        {
          "output_type": "stream",
          "name": "stdout",
          "text": [
            "Accuracy: 0.8774000000000002\n"
          ]
        }
      ]
    },
    {
      "cell_type": "code",
      "source": [
        "# Test set predicitons\n",
        "pred_test = predict(test_set_x, test_set_y, parameters)"
      ],
      "metadata": {
        "colab": {
          "base_uri": "https://localhost:8080/"
        },
        "id": "41IkJb-1iTtA",
        "outputId": "3323874c-2fd4-4e9c-97d8-bb99122368aa"
      },
      "execution_count": null,
      "outputs": [
        {
          "output_type": "stream",
          "name": "stdout",
          "text": [
            "Accuracy: 0.8674000000000002\n"
          ]
        }
      ]
    },
    {
      "cell_type": "code",
      "source": [
        ""
      ],
      "metadata": {
        "id": "iBhmpbfmkTA9"
      },
      "execution_count": null,
      "outputs": []
    }
  ]
}